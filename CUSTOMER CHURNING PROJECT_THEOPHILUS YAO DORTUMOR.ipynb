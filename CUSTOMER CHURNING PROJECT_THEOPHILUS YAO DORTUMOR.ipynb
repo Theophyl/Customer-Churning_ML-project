{
 "cells": [
  {
   "cell_type": "markdown",
   "metadata": {},
   "source": [
    "## THEOPHILUS YAO DORTUMOR"
   ]
  },
  {
   "cell_type": "markdown",
   "metadata": {},
   "source": [
    "#### A CLASSIFICATION PROJECT ON CUSTOMER CHURNING PREDICTION OF A TELECOMMUNICATION COMPANY\n"
   ]
  },
  {
   "cell_type": "markdown",
   "metadata": {},
   "source": [
    "### BUSINESS PROBLEM STATEMENT\n",
    "\n",
    "Every business exist because of its customers. More than anything, it is the main responsibility of any business to maintain and at best grow its customer base. However, this is not the narrative of most businesses. They lose customers instead, for reasons the businesses may not be aware of.\n",
    "\n",
    "Knowing which customer is most likely to cease operating with a particular would go a long way to reduce the rate at which customers leave a business. Business would tend to offer well-tailored offerings to meet customers demand and by extension, a satifactory customer experience. \n",
    "\n",
    "On the back of this, this project seeks to predict customers who are likely to cease transacting with a particular business. The company in this context is in the telecommunication industry which offers a large variety of services to its customers. \n",
    "\n",
    "This project will deploy the transaction profile of customers to predict whether they will leave the business or not ( customer churning). \n",
    "\n",
    "This binary classification problem, that is predicting \"Yes\" or \"No\" to a particular customer churning out. \n",
    "\n",
    "The data set to be used for this superviser classification project includes\n",
    "* Customers who left within the last month – the column is called Churn\n",
    "* Services that each customer has signed up for – phone, multiple lines, internet, online security, online backup, device protection, tech support, and streaming TV and movies\n",
    "* Customer account information – how long they’ve been a customer, contract, payment method, paperless billing, monthly charges, and total charges\n",
    "* Demographic info about customers – gender, age range, and if they have partners and dependents\n"
   ]
  },
  {
   "cell_type": "code",
   "execution_count": null,
   "metadata": {},
   "outputs": [],
   "source": []
  },
  {
   "cell_type": "code",
   "execution_count": 1,
   "metadata": {
    "scrolled": true
   },
   "outputs": [
    {
     "name": "stdout",
     "output_type": "stream",
     "text": [
      "Requirement already satisfied: imblearn in c:\\users\\theo\\anaconda3\\lib\\site-packages (0.0)\n",
      "Requirement already satisfied: imbalanced-learn in c:\\users\\theo\\anaconda3\\lib\\site-packages (from imblearn) (0.8.1)\n",
      "Requirement already satisfied: scikit-learn>=0.24 in c:\\users\\theo\\anaconda3\\lib\\site-packages (from imbalanced-learn->imblearn) (1.0.1)\n",
      "Requirement already satisfied: joblib>=0.11 in c:\\users\\theo\\anaconda3\\lib\\site-packages (from imbalanced-learn->imblearn) (0.16.0)\n",
      "Requirement already satisfied: scipy>=0.19.1 in c:\\users\\theo\\anaconda3\\lib\\site-packages (from imbalanced-learn->imblearn) (1.5.0)\n",
      "Requirement already satisfied: numpy>=1.13.3 in c:\\users\\theo\\anaconda3\\lib\\site-packages (from imbalanced-learn->imblearn) (1.18.5)\n",
      "Requirement already satisfied: threadpoolctl>=2.0.0 in c:\\users\\theo\\anaconda3\\lib\\site-packages (from scikit-learn>=0.24->imbalanced-learn->imblearn) (2.1.0)\n"
     ]
    }
   ],
   "source": [
    "!pip install imblearn"
   ]
  },
  {
   "cell_type": "markdown",
   "metadata": {},
   "source": [
    "### IMPORTING LIBRARIES AND PACKAGES"
   ]
  },
  {
   "cell_type": "code",
   "execution_count": 2,
   "metadata": {},
   "outputs": [],
   "source": [
    "import pandas as pd\n",
    "import numpy as np\n",
    "import matplotlib.pyplot as plt\n",
    "import seaborn as sns\n",
    "import os\n",
    "\n",
    "import warnings\n",
    "warnings.filterwarnings(\"ignore\")\n",
    "\n",
    "\n",
    "# Importation of Scalers\n",
    "from sklearn.preprocessing import MinMaxScaler\n",
    "from sklearn.preprocessing import StandardScaler\n",
    "from sklearn.preprocessing import RobustScaler\n",
    "\n",
    "# Importation of Pipelines\n",
    "from sklearn.pipeline import Pipeline\n",
    "from sklearn.pipeline import make_pipeline\n",
    "from sklearn.model_selection import GridSearchCV\n",
    "\n",
    "# Importation of Performance Metrics\n",
    "from sklearn.metrics import confusion_matrix\n",
    "from sklearn.metrics import roc_auc_score\n",
    "from sklearn.metrics import roc_curve\n",
    "from sklearn.metrics import accuracy_score\n",
    "\n"
   ]
  },
  {
   "cell_type": "code",
   "execution_count": 3,
   "metadata": {
    "scrolled": false
   },
   "outputs": [
    {
     "data": {
      "text/html": [
       "<div>\n",
       "<style scoped>\n",
       "    .dataframe tbody tr th:only-of-type {\n",
       "        vertical-align: middle;\n",
       "    }\n",
       "\n",
       "    .dataframe tbody tr th {\n",
       "        vertical-align: top;\n",
       "    }\n",
       "\n",
       "    .dataframe thead th {\n",
       "        text-align: right;\n",
       "    }\n",
       "</style>\n",
       "<table border=\"1\" class=\"dataframe\">\n",
       "  <thead>\n",
       "    <tr style=\"text-align: right;\">\n",
       "      <th></th>\n",
       "      <th>customerID</th>\n",
       "      <th>gender</th>\n",
       "      <th>SeniorCitizen</th>\n",
       "      <th>Partner</th>\n",
       "      <th>Dependents</th>\n",
       "      <th>tenure</th>\n",
       "      <th>PhoneService</th>\n",
       "      <th>MultipleLines</th>\n",
       "      <th>InternetService</th>\n",
       "      <th>OnlineSecurity</th>\n",
       "      <th>...</th>\n",
       "      <th>DeviceProtection</th>\n",
       "      <th>TechSupport</th>\n",
       "      <th>StreamingTV</th>\n",
       "      <th>StreamingMovies</th>\n",
       "      <th>Contract</th>\n",
       "      <th>PaperlessBilling</th>\n",
       "      <th>PaymentMethod</th>\n",
       "      <th>MonthlyCharges</th>\n",
       "      <th>TotalCharges</th>\n",
       "      <th>Churn</th>\n",
       "    </tr>\n",
       "  </thead>\n",
       "  <tbody>\n",
       "    <tr>\n",
       "      <th>0</th>\n",
       "      <td>7590-VHVEG</td>\n",
       "      <td>Female</td>\n",
       "      <td>0</td>\n",
       "      <td>Yes</td>\n",
       "      <td>No</td>\n",
       "      <td>1</td>\n",
       "      <td>No</td>\n",
       "      <td>No phone service</td>\n",
       "      <td>DSL</td>\n",
       "      <td>No</td>\n",
       "      <td>...</td>\n",
       "      <td>No</td>\n",
       "      <td>No</td>\n",
       "      <td>No</td>\n",
       "      <td>No</td>\n",
       "      <td>Month-to-month</td>\n",
       "      <td>Yes</td>\n",
       "      <td>Electronic check</td>\n",
       "      <td>29.85</td>\n",
       "      <td>29.85</td>\n",
       "      <td>No</td>\n",
       "    </tr>\n",
       "    <tr>\n",
       "      <th>1</th>\n",
       "      <td>5575-GNVDE</td>\n",
       "      <td>Male</td>\n",
       "      <td>0</td>\n",
       "      <td>No</td>\n",
       "      <td>No</td>\n",
       "      <td>34</td>\n",
       "      <td>Yes</td>\n",
       "      <td>No</td>\n",
       "      <td>DSL</td>\n",
       "      <td>Yes</td>\n",
       "      <td>...</td>\n",
       "      <td>Yes</td>\n",
       "      <td>No</td>\n",
       "      <td>No</td>\n",
       "      <td>No</td>\n",
       "      <td>One year</td>\n",
       "      <td>No</td>\n",
       "      <td>Mailed check</td>\n",
       "      <td>56.95</td>\n",
       "      <td>1889.5</td>\n",
       "      <td>No</td>\n",
       "    </tr>\n",
       "    <tr>\n",
       "      <th>2</th>\n",
       "      <td>3668-QPYBK</td>\n",
       "      <td>Male</td>\n",
       "      <td>0</td>\n",
       "      <td>No</td>\n",
       "      <td>No</td>\n",
       "      <td>2</td>\n",
       "      <td>Yes</td>\n",
       "      <td>No</td>\n",
       "      <td>DSL</td>\n",
       "      <td>Yes</td>\n",
       "      <td>...</td>\n",
       "      <td>No</td>\n",
       "      <td>No</td>\n",
       "      <td>No</td>\n",
       "      <td>No</td>\n",
       "      <td>Month-to-month</td>\n",
       "      <td>Yes</td>\n",
       "      <td>Mailed check</td>\n",
       "      <td>53.85</td>\n",
       "      <td>108.15</td>\n",
       "      <td>Yes</td>\n",
       "    </tr>\n",
       "    <tr>\n",
       "      <th>3</th>\n",
       "      <td>7795-CFOCW</td>\n",
       "      <td>Male</td>\n",
       "      <td>0</td>\n",
       "      <td>No</td>\n",
       "      <td>No</td>\n",
       "      <td>45</td>\n",
       "      <td>No</td>\n",
       "      <td>No phone service</td>\n",
       "      <td>DSL</td>\n",
       "      <td>Yes</td>\n",
       "      <td>...</td>\n",
       "      <td>Yes</td>\n",
       "      <td>Yes</td>\n",
       "      <td>No</td>\n",
       "      <td>No</td>\n",
       "      <td>One year</td>\n",
       "      <td>No</td>\n",
       "      <td>Bank transfer (automatic)</td>\n",
       "      <td>42.30</td>\n",
       "      <td>1840.75</td>\n",
       "      <td>No</td>\n",
       "    </tr>\n",
       "    <tr>\n",
       "      <th>4</th>\n",
       "      <td>9237-HQITU</td>\n",
       "      <td>Female</td>\n",
       "      <td>0</td>\n",
       "      <td>No</td>\n",
       "      <td>No</td>\n",
       "      <td>2</td>\n",
       "      <td>Yes</td>\n",
       "      <td>No</td>\n",
       "      <td>Fiber optic</td>\n",
       "      <td>No</td>\n",
       "      <td>...</td>\n",
       "      <td>No</td>\n",
       "      <td>No</td>\n",
       "      <td>No</td>\n",
       "      <td>No</td>\n",
       "      <td>Month-to-month</td>\n",
       "      <td>Yes</td>\n",
       "      <td>Electronic check</td>\n",
       "      <td>70.70</td>\n",
       "      <td>151.65</td>\n",
       "      <td>Yes</td>\n",
       "    </tr>\n",
       "    <tr>\n",
       "      <th>...</th>\n",
       "      <td>...</td>\n",
       "      <td>...</td>\n",
       "      <td>...</td>\n",
       "      <td>...</td>\n",
       "      <td>...</td>\n",
       "      <td>...</td>\n",
       "      <td>...</td>\n",
       "      <td>...</td>\n",
       "      <td>...</td>\n",
       "      <td>...</td>\n",
       "      <td>...</td>\n",
       "      <td>...</td>\n",
       "      <td>...</td>\n",
       "      <td>...</td>\n",
       "      <td>...</td>\n",
       "      <td>...</td>\n",
       "      <td>...</td>\n",
       "      <td>...</td>\n",
       "      <td>...</td>\n",
       "      <td>...</td>\n",
       "      <td>...</td>\n",
       "    </tr>\n",
       "    <tr>\n",
       "      <th>7038</th>\n",
       "      <td>6840-RESVB</td>\n",
       "      <td>Male</td>\n",
       "      <td>0</td>\n",
       "      <td>Yes</td>\n",
       "      <td>Yes</td>\n",
       "      <td>24</td>\n",
       "      <td>Yes</td>\n",
       "      <td>Yes</td>\n",
       "      <td>DSL</td>\n",
       "      <td>Yes</td>\n",
       "      <td>...</td>\n",
       "      <td>Yes</td>\n",
       "      <td>Yes</td>\n",
       "      <td>Yes</td>\n",
       "      <td>Yes</td>\n",
       "      <td>One year</td>\n",
       "      <td>Yes</td>\n",
       "      <td>Mailed check</td>\n",
       "      <td>84.80</td>\n",
       "      <td>1990.5</td>\n",
       "      <td>No</td>\n",
       "    </tr>\n",
       "    <tr>\n",
       "      <th>7039</th>\n",
       "      <td>2234-XADUH</td>\n",
       "      <td>Female</td>\n",
       "      <td>0</td>\n",
       "      <td>Yes</td>\n",
       "      <td>Yes</td>\n",
       "      <td>72</td>\n",
       "      <td>Yes</td>\n",
       "      <td>Yes</td>\n",
       "      <td>Fiber optic</td>\n",
       "      <td>No</td>\n",
       "      <td>...</td>\n",
       "      <td>Yes</td>\n",
       "      <td>No</td>\n",
       "      <td>Yes</td>\n",
       "      <td>Yes</td>\n",
       "      <td>One year</td>\n",
       "      <td>Yes</td>\n",
       "      <td>Credit card (automatic)</td>\n",
       "      <td>103.20</td>\n",
       "      <td>7362.9</td>\n",
       "      <td>No</td>\n",
       "    </tr>\n",
       "    <tr>\n",
       "      <th>7040</th>\n",
       "      <td>4801-JZAZL</td>\n",
       "      <td>Female</td>\n",
       "      <td>0</td>\n",
       "      <td>Yes</td>\n",
       "      <td>Yes</td>\n",
       "      <td>11</td>\n",
       "      <td>No</td>\n",
       "      <td>No phone service</td>\n",
       "      <td>DSL</td>\n",
       "      <td>Yes</td>\n",
       "      <td>...</td>\n",
       "      <td>No</td>\n",
       "      <td>No</td>\n",
       "      <td>No</td>\n",
       "      <td>No</td>\n",
       "      <td>Month-to-month</td>\n",
       "      <td>Yes</td>\n",
       "      <td>Electronic check</td>\n",
       "      <td>29.60</td>\n",
       "      <td>346.45</td>\n",
       "      <td>No</td>\n",
       "    </tr>\n",
       "    <tr>\n",
       "      <th>7041</th>\n",
       "      <td>8361-LTMKD</td>\n",
       "      <td>Male</td>\n",
       "      <td>1</td>\n",
       "      <td>Yes</td>\n",
       "      <td>No</td>\n",
       "      <td>4</td>\n",
       "      <td>Yes</td>\n",
       "      <td>Yes</td>\n",
       "      <td>Fiber optic</td>\n",
       "      <td>No</td>\n",
       "      <td>...</td>\n",
       "      <td>No</td>\n",
       "      <td>No</td>\n",
       "      <td>No</td>\n",
       "      <td>No</td>\n",
       "      <td>Month-to-month</td>\n",
       "      <td>Yes</td>\n",
       "      <td>Mailed check</td>\n",
       "      <td>74.40</td>\n",
       "      <td>306.6</td>\n",
       "      <td>Yes</td>\n",
       "    </tr>\n",
       "    <tr>\n",
       "      <th>7042</th>\n",
       "      <td>3186-AJIEK</td>\n",
       "      <td>Male</td>\n",
       "      <td>0</td>\n",
       "      <td>No</td>\n",
       "      <td>No</td>\n",
       "      <td>66</td>\n",
       "      <td>Yes</td>\n",
       "      <td>No</td>\n",
       "      <td>Fiber optic</td>\n",
       "      <td>Yes</td>\n",
       "      <td>...</td>\n",
       "      <td>Yes</td>\n",
       "      <td>Yes</td>\n",
       "      <td>Yes</td>\n",
       "      <td>Yes</td>\n",
       "      <td>Two year</td>\n",
       "      <td>Yes</td>\n",
       "      <td>Bank transfer (automatic)</td>\n",
       "      <td>105.65</td>\n",
       "      <td>6844.5</td>\n",
       "      <td>No</td>\n",
       "    </tr>\n",
       "  </tbody>\n",
       "</table>\n",
       "<p>7043 rows × 21 columns</p>\n",
       "</div>"
      ],
      "text/plain": [
       "      customerID  gender  SeniorCitizen Partner Dependents  tenure  \\\n",
       "0     7590-VHVEG  Female              0     Yes         No       1   \n",
       "1     5575-GNVDE    Male              0      No         No      34   \n",
       "2     3668-QPYBK    Male              0      No         No       2   \n",
       "3     7795-CFOCW    Male              0      No         No      45   \n",
       "4     9237-HQITU  Female              0      No         No       2   \n",
       "...          ...     ...            ...     ...        ...     ...   \n",
       "7038  6840-RESVB    Male              0     Yes        Yes      24   \n",
       "7039  2234-XADUH  Female              0     Yes        Yes      72   \n",
       "7040  4801-JZAZL  Female              0     Yes        Yes      11   \n",
       "7041  8361-LTMKD    Male              1     Yes         No       4   \n",
       "7042  3186-AJIEK    Male              0      No         No      66   \n",
       "\n",
       "     PhoneService     MultipleLines InternetService OnlineSecurity  ...  \\\n",
       "0              No  No phone service             DSL             No  ...   \n",
       "1             Yes                No             DSL            Yes  ...   \n",
       "2             Yes                No             DSL            Yes  ...   \n",
       "3              No  No phone service             DSL            Yes  ...   \n",
       "4             Yes                No     Fiber optic             No  ...   \n",
       "...           ...               ...             ...            ...  ...   \n",
       "7038          Yes               Yes             DSL            Yes  ...   \n",
       "7039          Yes               Yes     Fiber optic             No  ...   \n",
       "7040           No  No phone service             DSL            Yes  ...   \n",
       "7041          Yes               Yes     Fiber optic             No  ...   \n",
       "7042          Yes                No     Fiber optic            Yes  ...   \n",
       "\n",
       "     DeviceProtection TechSupport StreamingTV StreamingMovies        Contract  \\\n",
       "0                  No          No          No              No  Month-to-month   \n",
       "1                 Yes          No          No              No        One year   \n",
       "2                  No          No          No              No  Month-to-month   \n",
       "3                 Yes         Yes          No              No        One year   \n",
       "4                  No          No          No              No  Month-to-month   \n",
       "...               ...         ...         ...             ...             ...   \n",
       "7038              Yes         Yes         Yes             Yes        One year   \n",
       "7039              Yes          No         Yes             Yes        One year   \n",
       "7040               No          No          No              No  Month-to-month   \n",
       "7041               No          No          No              No  Month-to-month   \n",
       "7042              Yes         Yes         Yes             Yes        Two year   \n",
       "\n",
       "     PaperlessBilling              PaymentMethod MonthlyCharges  TotalCharges  \\\n",
       "0                 Yes           Electronic check          29.85         29.85   \n",
       "1                  No               Mailed check          56.95        1889.5   \n",
       "2                 Yes               Mailed check          53.85        108.15   \n",
       "3                  No  Bank transfer (automatic)          42.30       1840.75   \n",
       "4                 Yes           Electronic check          70.70        151.65   \n",
       "...               ...                        ...            ...           ...   \n",
       "7038              Yes               Mailed check          84.80        1990.5   \n",
       "7039              Yes    Credit card (automatic)         103.20        7362.9   \n",
       "7040              Yes           Electronic check          29.60        346.45   \n",
       "7041              Yes               Mailed check          74.40         306.6   \n",
       "7042              Yes  Bank transfer (automatic)         105.65        6844.5   \n",
       "\n",
       "     Churn  \n",
       "0       No  \n",
       "1       No  \n",
       "2      Yes  \n",
       "3       No  \n",
       "4      Yes  \n",
       "...    ...  \n",
       "7038    No  \n",
       "7039    No  \n",
       "7040    No  \n",
       "7041   Yes  \n",
       "7042    No  \n",
       "\n",
       "[7043 rows x 21 columns]"
      ]
     },
     "execution_count": 3,
     "metadata": {},
     "output_type": "execute_result"
    }
   ],
   "source": [
    "# loading the dataset\n",
    "df = pd.read_csv(\"Telco-Customer-Churn.csv\")\n",
    "df"
   ]
  },
  {
   "cell_type": "code",
   "execution_count": 4,
   "metadata": {
    "scrolled": true
   },
   "outputs": [
    {
     "name": "stdout",
     "output_type": "stream",
     "text": [
      "The dataset has 7043 rows and 21 columns\n"
     ]
    }
   ],
   "source": [
    "print(\"The dataset has {} rows and {} columns\".format(df.shape[0], df.shape[1]))"
   ]
  },
  {
   "cell_type": "markdown",
   "metadata": {},
   "source": [
    "## EXPLORATORY DATA ANALYSIS\n"
   ]
  },
  {
   "cell_type": "code",
   "execution_count": 5,
   "metadata": {},
   "outputs": [],
   "source": [
    "# customerID to be dropped because it has no relevance to the prediction. \n",
    "\n",
    "df.drop(\"customerID\",axis = \"columns\", inplace = True)"
   ]
  },
  {
   "cell_type": "code",
   "execution_count": 6,
   "metadata": {
    "scrolled": true
   },
   "outputs": [
    {
     "data": {
      "text/html": [
       "<div>\n",
       "<style scoped>\n",
       "    .dataframe tbody tr th:only-of-type {\n",
       "        vertical-align: middle;\n",
       "    }\n",
       "\n",
       "    .dataframe tbody tr th {\n",
       "        vertical-align: top;\n",
       "    }\n",
       "\n",
       "    .dataframe thead th {\n",
       "        text-align: right;\n",
       "    }\n",
       "</style>\n",
       "<table border=\"1\" class=\"dataframe\">\n",
       "  <thead>\n",
       "    <tr style=\"text-align: right;\">\n",
       "      <th></th>\n",
       "      <th>gender</th>\n",
       "      <th>SeniorCitizen</th>\n",
       "      <th>Partner</th>\n",
       "      <th>Dependents</th>\n",
       "      <th>tenure</th>\n",
       "      <th>PhoneService</th>\n",
       "      <th>MultipleLines</th>\n",
       "      <th>InternetService</th>\n",
       "      <th>OnlineSecurity</th>\n",
       "      <th>OnlineBackup</th>\n",
       "      <th>DeviceProtection</th>\n",
       "      <th>TechSupport</th>\n",
       "      <th>StreamingTV</th>\n",
       "      <th>StreamingMovies</th>\n",
       "      <th>Contract</th>\n",
       "      <th>PaperlessBilling</th>\n",
       "      <th>PaymentMethod</th>\n",
       "      <th>MonthlyCharges</th>\n",
       "      <th>TotalCharges</th>\n",
       "      <th>Churn</th>\n",
       "    </tr>\n",
       "  </thead>\n",
       "  <tbody>\n",
       "    <tr>\n",
       "      <th>0</th>\n",
       "      <td>Female</td>\n",
       "      <td>0</td>\n",
       "      <td>Yes</td>\n",
       "      <td>No</td>\n",
       "      <td>1</td>\n",
       "      <td>No</td>\n",
       "      <td>No phone service</td>\n",
       "      <td>DSL</td>\n",
       "      <td>No</td>\n",
       "      <td>Yes</td>\n",
       "      <td>No</td>\n",
       "      <td>No</td>\n",
       "      <td>No</td>\n",
       "      <td>No</td>\n",
       "      <td>Month-to-month</td>\n",
       "      <td>Yes</td>\n",
       "      <td>Electronic check</td>\n",
       "      <td>29.85</td>\n",
       "      <td>29.85</td>\n",
       "      <td>No</td>\n",
       "    </tr>\n",
       "    <tr>\n",
       "      <th>1</th>\n",
       "      <td>Male</td>\n",
       "      <td>0</td>\n",
       "      <td>No</td>\n",
       "      <td>No</td>\n",
       "      <td>34</td>\n",
       "      <td>Yes</td>\n",
       "      <td>No</td>\n",
       "      <td>DSL</td>\n",
       "      <td>Yes</td>\n",
       "      <td>No</td>\n",
       "      <td>Yes</td>\n",
       "      <td>No</td>\n",
       "      <td>No</td>\n",
       "      <td>No</td>\n",
       "      <td>One year</td>\n",
       "      <td>No</td>\n",
       "      <td>Mailed check</td>\n",
       "      <td>56.95</td>\n",
       "      <td>1889.5</td>\n",
       "      <td>No</td>\n",
       "    </tr>\n",
       "    <tr>\n",
       "      <th>2</th>\n",
       "      <td>Male</td>\n",
       "      <td>0</td>\n",
       "      <td>No</td>\n",
       "      <td>No</td>\n",
       "      <td>2</td>\n",
       "      <td>Yes</td>\n",
       "      <td>No</td>\n",
       "      <td>DSL</td>\n",
       "      <td>Yes</td>\n",
       "      <td>Yes</td>\n",
       "      <td>No</td>\n",
       "      <td>No</td>\n",
       "      <td>No</td>\n",
       "      <td>No</td>\n",
       "      <td>Month-to-month</td>\n",
       "      <td>Yes</td>\n",
       "      <td>Mailed check</td>\n",
       "      <td>53.85</td>\n",
       "      <td>108.15</td>\n",
       "      <td>Yes</td>\n",
       "    </tr>\n",
       "  </tbody>\n",
       "</table>\n",
       "</div>"
      ],
      "text/plain": [
       "   gender  SeniorCitizen Partner Dependents  tenure PhoneService  \\\n",
       "0  Female              0     Yes         No       1           No   \n",
       "1    Male              0      No         No      34          Yes   \n",
       "2    Male              0      No         No       2          Yes   \n",
       "\n",
       "      MultipleLines InternetService OnlineSecurity OnlineBackup  \\\n",
       "0  No phone service             DSL             No          Yes   \n",
       "1                No             DSL            Yes           No   \n",
       "2                No             DSL            Yes          Yes   \n",
       "\n",
       "  DeviceProtection TechSupport StreamingTV StreamingMovies        Contract  \\\n",
       "0               No          No          No              No  Month-to-month   \n",
       "1              Yes          No          No              No        One year   \n",
       "2               No          No          No              No  Month-to-month   \n",
       "\n",
       "  PaperlessBilling     PaymentMethod  MonthlyCharges TotalCharges Churn  \n",
       "0              Yes  Electronic check           29.85        29.85    No  \n",
       "1               No      Mailed check           56.95       1889.5    No  \n",
       "2              Yes      Mailed check           53.85       108.15   Yes  "
      ]
     },
     "execution_count": 6,
     "metadata": {},
     "output_type": "execute_result"
    }
   ],
   "source": [
    "df.head(3)"
   ]
  },
  {
   "cell_type": "code",
   "execution_count": 7,
   "metadata": {
    "scrolled": false
   },
   "outputs": [
    {
     "data": {
      "text/plain": [
       "gender               object\n",
       "SeniorCitizen         int64\n",
       "Partner              object\n",
       "Dependents           object\n",
       "tenure                int64\n",
       "PhoneService         object\n",
       "MultipleLines        object\n",
       "InternetService      object\n",
       "OnlineSecurity       object\n",
       "OnlineBackup         object\n",
       "DeviceProtection     object\n",
       "TechSupport          object\n",
       "StreamingTV          object\n",
       "StreamingMovies      object\n",
       "Contract             object\n",
       "PaperlessBilling     object\n",
       "PaymentMethod        object\n",
       "MonthlyCharges      float64\n",
       "TotalCharges         object\n",
       "Churn                object\n",
       "dtype: object"
      ]
     },
     "execution_count": 7,
     "metadata": {},
     "output_type": "execute_result"
    }
   ],
   "source": [
    "df.dtypes"
   ]
  },
  {
   "cell_type": "code",
   "execution_count": 8,
   "metadata": {},
   "outputs": [],
   "source": [
    "# Converting TotalCharges to a numerical data type.\n",
    "df.TotalCharges = pd.to_numeric(df.TotalCharges, errors='coerce')"
   ]
  },
  {
   "cell_type": "code",
   "execution_count": 9,
   "metadata": {
    "scrolled": false
   },
   "outputs": [
    {
     "data": {
      "text/plain": [
       "gender               object\n",
       "SeniorCitizen         int64\n",
       "Partner              object\n",
       "Dependents           object\n",
       "tenure                int64\n",
       "PhoneService         object\n",
       "MultipleLines        object\n",
       "InternetService      object\n",
       "OnlineSecurity       object\n",
       "OnlineBackup         object\n",
       "DeviceProtection     object\n",
       "TechSupport          object\n",
       "StreamingTV          object\n",
       "StreamingMovies      object\n",
       "Contract             object\n",
       "PaperlessBilling     object\n",
       "PaymentMethod        object\n",
       "MonthlyCharges      float64\n",
       "TotalCharges        float64\n",
       "Churn                object\n",
       "dtype: object"
      ]
     },
     "execution_count": 9,
     "metadata": {},
     "output_type": "execute_result"
    }
   ],
   "source": [
    "df.dtypes"
   ]
  },
  {
   "cell_type": "code",
   "execution_count": 10,
   "metadata": {},
   "outputs": [
    {
     "data": {
      "text/plain": [
       "gender               0\n",
       "SeniorCitizen        0\n",
       "Partner              0\n",
       "Dependents           0\n",
       "tenure               0\n",
       "PhoneService         0\n",
       "MultipleLines        0\n",
       "InternetService      0\n",
       "OnlineSecurity       0\n",
       "OnlineBackup         0\n",
       "DeviceProtection     0\n",
       "TechSupport          0\n",
       "StreamingTV          0\n",
       "StreamingMovies      0\n",
       "Contract             0\n",
       "PaperlessBilling     0\n",
       "PaymentMethod        0\n",
       "MonthlyCharges       0\n",
       "TotalCharges        11\n",
       "Churn                0\n",
       "dtype: int64"
      ]
     },
     "execution_count": 10,
     "metadata": {},
     "output_type": "execute_result"
    }
   ],
   "source": [
    "df.isnull().sum()"
   ]
  },
  {
   "cell_type": "code",
   "execution_count": 11,
   "metadata": {
    "scrolled": false
   },
   "outputs": [
    {
     "data": {
      "text/plain": [
       "gender              0.000000\n",
       "SeniorCitizen       0.000000\n",
       "Partner             0.000000\n",
       "Dependents          0.000000\n",
       "tenure              0.000000\n",
       "PhoneService        0.000000\n",
       "MultipleLines       0.000000\n",
       "InternetService     0.000000\n",
       "OnlineSecurity      0.000000\n",
       "OnlineBackup        0.000000\n",
       "DeviceProtection    0.000000\n",
       "TechSupport         0.000000\n",
       "StreamingTV         0.000000\n",
       "StreamingMovies     0.000000\n",
       "Contract            0.000000\n",
       "PaperlessBilling    0.000000\n",
       "PaymentMethod       0.000000\n",
       "MonthlyCharges      0.000000\n",
       "TotalCharges        0.156183\n",
       "Churn               0.000000\n",
       "dtype: float64"
      ]
     },
     "execution_count": 11,
     "metadata": {},
     "output_type": "execute_result"
    }
   ],
   "source": [
    "# Percentage of null values\n",
    "df.isnull().sum() * 100 / len(df) "
   ]
  },
  {
   "cell_type": "markdown",
   "metadata": {},
   "source": [
    "From the results above, it could be observed that 11 instances have their TotalCharges as null representing 15%. Therefore, mean will be used inplace of these null values.      "
   ]
  },
  {
   "cell_type": "code",
   "execution_count": 12,
   "metadata": {
    "scrolled": false
   },
   "outputs": [
    {
     "data": {
      "text/plain": [
       "gender                 2\n",
       "SeniorCitizen          2\n",
       "Partner                2\n",
       "Dependents             2\n",
       "tenure                73\n",
       "PhoneService           2\n",
       "MultipleLines          3\n",
       "InternetService        3\n",
       "OnlineSecurity         3\n",
       "OnlineBackup           3\n",
       "DeviceProtection       3\n",
       "TechSupport            3\n",
       "StreamingTV            3\n",
       "StreamingMovies        3\n",
       "Contract               3\n",
       "PaperlessBilling       2\n",
       "PaymentMethod          4\n",
       "MonthlyCharges      1585\n",
       "TotalCharges        6530\n",
       "Churn                  2\n",
       "dtype: int64"
      ]
     },
     "execution_count": 12,
     "metadata": {},
     "output_type": "execute_result"
    }
   ],
   "source": [
    "df.nunique()      "
   ]
  },
  {
   "cell_type": "code",
   "execution_count": 13,
   "metadata": {},
   "outputs": [],
   "source": [
    "# Seperating categorical and numerical variables for individual exploration\n",
    "categorical_var = df.select_dtypes(include = \"object\")\n",
    "numerical_var = df.select_dtypes(include = np.number)"
   ]
  },
  {
   "cell_type": "markdown",
   "metadata": {},
   "source": [
    "### EXPORATION OF CATEGORICAL VARIABLES"
   ]
  },
  {
   "cell_type": "code",
   "execution_count": 14,
   "metadata": {},
   "outputs": [
    {
     "name": "stdout",
     "output_type": "stream",
     "text": [
      "gender\n",
      "Partner\n",
      "Dependents\n",
      "PhoneService\n",
      "MultipleLines\n",
      "InternetService\n",
      "OnlineSecurity\n",
      "OnlineBackup\n",
      "DeviceProtection\n",
      "TechSupport\n",
      "StreamingTV\n",
      "StreamingMovies\n",
      "Contract\n",
      "PaperlessBilling\n",
      "PaymentMethod\n",
      "Churn\n"
     ]
    }
   ],
   "source": [
    "#Categoorical variables in perspective\n",
    "for col in categorical_var.columns:\n",
    "    print(col)"
   ]
  },
  {
   "cell_type": "code",
   "execution_count": 15,
   "metadata": {},
   "outputs": [],
   "source": [
    "# creating a function to explore the categorical variables\n",
    "\n",
    "def explore_cat(df, c):\n",
    "    unique_categories = df[c].nunique()\n",
    "    if unique_categories <= 6:\n",
    "        print(\"Summary\")\n",
    "        print(\"============\")\n",
    "        print(df[c].describe(),\"\\n\")\n",
    "        sns.countplot(df[c])\n",
    "        plt.show()\n",
    "        print(\"=============================================\")\n",
    "        print(\"value counts \\n\")\n",
    "        print(df[c].value_counts(),\"\\n\")\n",
    "        print(\"=============================================\")\n",
    "        print(\"Missing values: {}\".format(df[c].isnull().sum()))\n",
    "        \n",
    "    else:\n",
    "        print(\"Summary\")\n",
    "        print(\"===========\")\n",
    "        print(df[c].describe(),\"\\n\")\n",
    "        sns.countplot(y=df[c])\n",
    "        plt.show()\n",
    "        print(\"=============================================\")\n",
    "        print(\"value counts \\n\")\n",
    "        print(df[c].value_counts(),\"\\n\")\n",
    "        print(\"=============================================\")\n",
    "        print(\"Missing values: {}\".format(df[c].isnull().sum()))        "
   ]
  },
  {
   "cell_type": "code",
   "execution_count": 16,
   "metadata": {},
   "outputs": [
    {
     "name": "stdout",
     "output_type": "stream",
     "text": [
      "Summary\n",
      "============\n",
      "count     7043\n",
      "unique       2\n",
      "top       Male\n",
      "freq      3555\n",
      "Name: gender, dtype: object \n",
      "\n"
     ]
    },
    {
     "data": {
      "image/png": "[encoded data removed]",
      "text/plain": [
       "<Figure size 432x288 with 1 Axes>"
      ]
     },
     "metadata": {
      "needs_background": "light"
     },
     "output_type": "display_data"
    },
    {
     "name": "stdout",
     "output_type": "stream",
     "text": [
      "=============================================\n",
      "value counts \n",
      "\n",
      "Male      3555\n",
      "Female    3488\n",
      "Name: gender, dtype: int64 \n",
      "\n",
      "=============================================\n",
      "Missing values: 0\n"
     ]
    }
   ],
   "source": [
    "explore_cat(df,\"gender\")"
   ]
  },
  {
   "cell_type": "markdown",
   "metadata": {},
   "source": [
    "There is a fair balance in the gender variable. There are no missing values as well."
   ]
  },
  {
   "cell_type": "code",
   "execution_count": 17,
   "metadata": {
    "scrolled": false
   },
   "outputs": [
    {
     "name": "stdout",
     "output_type": "stream",
     "text": [
      "Summary\n",
      "============\n",
      "count     7043\n",
      "unique       2\n",
      "top         No\n",
      "freq      3641\n",
      "Name: Partner, dtype: object \n",
      "\n"
     ]
    },
    {
     "data": {
      "image/png": "[encoded data removed]",
      "text/plain": [
       "<Figure size 432x288 with 1 Axes>"
      ]
     },
     "metadata": {
      "needs_background": "light"
     },
     "output_type": "display_data"
    },
    {
     "name": "stdout",
     "output_type": "stream",
     "text": [
      "=============================================\n",
      "value counts \n",
      "\n",
      "No     3641\n",
      "Yes    3402\n",
      "Name: Partner, dtype: int64 \n",
      "\n",
      "=============================================\n",
      "Missing values: 0\n"
     ]
    }
   ],
   "source": [
    "explore_cat(df, \"Partner\")"
   ]
  },
  {
   "cell_type": "markdown",
   "metadata": {},
   "source": [
    "There is a fair balance in the Partnervariable. There are no missing values as well."
   ]
  },
  {
   "cell_type": "code",
   "execution_count": 18,
   "metadata": {
    "scrolled": false
   },
   "outputs": [
    {
     "name": "stdout",
     "output_type": "stream",
     "text": [
      "Summary\n",
      "============\n",
      "count     7043\n",
      "unique       2\n",
      "top         No\n",
      "freq      4933\n",
      "Name: Dependents, dtype: object \n",
      "\n"
     ]
    },
    {
     "data": {
      "image/png": "[encoded data removed]",
      "text/plain": [
       "<Figure size 432x288 with 1 Axes>"
      ]
     },
     "metadata": {
      "needs_background": "light"
     },
     "output_type": "display_data"
    },
    {
     "name": "stdout",
     "output_type": "stream",
     "text": [
      "=============================================\n",
      "value counts \n",
      "\n",
      "No     4933\n",
      "Yes    2110\n",
      "Name: Dependents, dtype: int64 \n",
      "\n",
      "=============================================\n",
      "Missing values: 0\n"
     ]
    }
   ],
   "source": [
    "explore_cat(df,\"Dependents\")"
   ]
  },
  {
   "cell_type": "markdown",
   "metadata": {},
   "source": [
    "The \"Dependents\" variables has a wide imbalance between its unique values. There is no missing value in it."
   ]
  },
  {
   "cell_type": "code",
   "execution_count": 19,
   "metadata": {
    "scrolled": false
   },
   "outputs": [
    {
     "name": "stdout",
     "output_type": "stream",
     "text": [
      "Summary\n",
      "============\n",
      "count     7043\n",
      "unique       2\n",
      "top        Yes\n",
      "freq      6361\n",
      "Name: PhoneService, dtype: object \n",
      "\n"
     ]
    },
    {
     "data": {
      "image/png": "[encoded data removed]",
      "text/plain": [
       "<Figure size 432x288 with 1 Axes>"
      ]
     },
     "metadata": {
      "needs_background": "light"
     },
     "output_type": "display_data"
    },
    {
     "name": "stdout",
     "output_type": "stream",
     "text": [
      "=============================================\n",
      "value counts \n",
      "\n",
      "Yes    6361\n",
      "No      682\n",
      "Name: PhoneService, dtype: int64 \n",
      "\n",
      "=============================================\n",
      "Missing values: 0\n"
     ]
    }
   ],
   "source": [
    "explore_cat(df,\"PhoneService\")"
   ]
  },
  {
   "cell_type": "markdown",
   "metadata": {},
   "source": [
    "The \"PhoneService\" variable is highly unbalanced with the \"Yes\" having 6361 counts ann \"No\" having 682. However, it has no missing values"
   ]
  },
  {
   "cell_type": "code",
   "execution_count": 20,
   "metadata": {},
   "outputs": [
    {
     "name": "stdout",
     "output_type": "stream",
     "text": [
      "Summary\n",
      "============\n",
      "count     7043\n",
      "unique       3\n",
      "top         No\n",
      "freq      3390\n",
      "Name: MultipleLines, dtype: object \n",
      "\n"
     ]
    },
    {
     "data": {
      "image/png": "[encoded data removed]",
      "text/plain": [
       "<Figure size 432x288 with 1 Axes>"
      ]
     },
     "metadata": {
      "needs_background": "light"
     },
     "output_type": "display_data"
    },
    {
     "name": "stdout",
     "output_type": "stream",
     "text": [
      "=============================================\n",
      "value counts \n",
      "\n",
      "No                  3390\n",
      "Yes                 2971\n",
      "No phone service     682\n",
      "Name: MultipleLines, dtype: int64 \n",
      "\n",
      "=============================================\n",
      "Missing values: 0\n"
     ]
    }
   ],
   "source": [
    "explore_cat(df,\"MultipleLines\")\n"
   ]
  },
  {
   "cell_type": "code",
   "execution_count": 21,
   "metadata": {},
   "outputs": [
    {
     "name": "stdout",
     "output_type": "stream",
     "text": [
      "Summary\n",
      "============\n",
      "count            7043\n",
      "unique              3\n",
      "top       Fiber optic\n",
      "freq             3096\n",
      "Name: InternetService, dtype: object \n",
      "\n"
     ]
    },
    {
     "data": {
      "image/png": "[encoded data removed]",
      "text/plain": [
       "<Figure size 432x288 with 1 Axes>"
      ]
     },
     "metadata": {
      "needs_background": "light"
     },
     "output_type": "display_data"
    },
    {
     "name": "stdout",
     "output_type": "stream",
     "text": [
      "=============================================\n",
      "value counts \n",
      "\n",
      "Fiber optic    3096\n",
      "DSL            2421\n",
      "No             1526\n",
      "Name: InternetService, dtype: int64 \n",
      "\n",
      "=============================================\n",
      "Missing values: 0\n"
     ]
    }
   ],
   "source": [
    "explore_cat(df,\"InternetService\")"
   ]
  },
  {
   "cell_type": "code",
   "execution_count": 22,
   "metadata": {
    "scrolled": false
   },
   "outputs": [
    {
     "name": "stdout",
     "output_type": "stream",
     "text": [
      "Summary\n",
      "============\n",
      "count     7043\n",
      "unique       3\n",
      "top         No\n",
      "freq      3498\n",
      "Name: OnlineSecurity, dtype: object \n",
      "\n"
     ]
    },
    {
     "data": {
      "image/png": "[encoded data removed]",
      "text/plain": [
       "<Figure size 432x288 with 1 Axes>"
      ]
     },
     "metadata": {
      "needs_background": "light"
     },
     "output_type": "display_data"
    },
    {
     "name": "stdout",
     "output_type": "stream",
     "text": [
      "=============================================\n",
      "value counts \n",
      "\n",
      "No                     3498\n",
      "Yes                    2019\n",
      "No internet service    1526\n",
      "Name: OnlineSecurity, dtype: int64 \n",
      "\n",
      "=============================================\n",
      "Missing values: 0\n"
     ]
    }
   ],
   "source": [
    "explore_cat(df,\"OnlineSecurity\")"
   ]
  },
  {
   "cell_type": "code",
   "execution_count": 23,
   "metadata": {},
   "outputs": [
    {
     "name": "stdout",
     "output_type": "stream",
     "text": [
      "Summary\n",
      "============\n",
      "count     7043\n",
      "unique       3\n",
      "top         No\n",
      "freq      3088\n",
      "Name: OnlineBackup, dtype: object \n",
      "\n"
     ]
    },
    {
     "data": {
      "image/png": "[encoded data removed]",
      "text/plain": [
       "<Figure size 432x288 with 1 Axes>"
      ]
     },
     "metadata": {
      "needs_background": "light"
     },
     "output_type": "display_data"
    },
    {
     "name": "stdout",
     "output_type": "stream",
     "text": [
      "=============================================\n",
      "value counts \n",
      "\n",
      "No                     3088\n",
      "Yes                    2429\n",
      "No internet service    1526\n",
      "Name: OnlineBackup, dtype: int64 \n",
      "\n",
      "=============================================\n",
      "Missing values: 0\n"
     ]
    }
   ],
   "source": [
    "\n",
    "explore_cat(df,\"OnlineBackup\")"
   ]
  },
  {
   "cell_type": "code",
   "execution_count": 24,
   "metadata": {},
   "outputs": [
    {
     "name": "stdout",
     "output_type": "stream",
     "text": [
      "Summary\n",
      "============\n",
      "count     7043\n",
      "unique       3\n",
      "top         No\n",
      "freq      3095\n",
      "Name: DeviceProtection, dtype: object \n",
      "\n"
     ]
    },
    {
     "data": {
      "image/png": "[encoded data removed]",
      "text/plain": [
       "<Figure size 432x288 with 1 Axes>"
      ]
     },
     "metadata": {
      "needs_background": "light"
     },
     "output_type": "display_data"
    },
    {
     "name": "stdout",
     "output_type": "stream",
     "text": [
      "=============================================\n",
      "value counts \n",
      "\n",
      "No                     3095\n",
      "Yes                    2422\n",
      "No internet service    1526\n",
      "Name: DeviceProtection, dtype: int64 \n",
      "\n",
      "=============================================\n",
      "Missing values: 0\n"
     ]
    }
   ],
   "source": [
    "explore_cat(df,\"DeviceProtection\")"
   ]
  },
  {
   "cell_type": "code",
   "execution_count": 25,
   "metadata": {},
   "outputs": [
    {
     "name": "stdout",
     "output_type": "stream",
     "text": [
      "Summary\n",
      "============\n",
      "count     7043\n",
      "unique       3\n",
      "top         No\n",
      "freq      3473\n",
      "Name: TechSupport, dtype: object \n",
      "\n"
     ]
    },
    {
     "data": {
      "image/png": "[encoded data removed]",
      "text/plain": [
       "<Figure size 432x288 with 1 Axes>"
      ]
     },
     "metadata": {
      "needs_background": "light"
     },
     "output_type": "display_data"
    },
    {
     "name": "stdout",
     "output_type": "stream",
     "text": [
      "=============================================\n",
      "value counts \n",
      "\n",
      "No                     3473\n",
      "Yes                    2044\n",
      "No internet service    1526\n",
      "Name: TechSupport, dtype: int64 \n",
      "\n",
      "=============================================\n",
      "Missing values: 0\n"
     ]
    }
   ],
   "source": [
    "explore_cat(df,\"TechSupport\")"
   ]
  },
  {
   "cell_type": "code",
   "execution_count": 26,
   "metadata": {},
   "outputs": [
    {
     "name": "stdout",
     "output_type": "stream",
     "text": [
      "Summary\n",
      "============\n",
      "count     7043\n",
      "unique       3\n",
      "top         No\n",
      "freq      2810\n",
      "Name: StreamingTV, dtype: object \n",
      "\n"
     ]
    },
    {
     "data": {
      "image/png": "[encoded data removed]",
      "text/plain": [
       "<Figure size 432x288 with 1 Axes>"
      ]
     },
     "metadata": {
      "needs_background": "light"
     },
     "output_type": "display_data"
    },
    {
     "name": "stdout",
     "output_type": "stream",
     "text": [
      "=============================================\n",
      "value counts \n",
      "\n",
      "No                     2810\n",
      "Yes                    2707\n",
      "No internet service    1526\n",
      "Name: StreamingTV, dtype: int64 \n",
      "\n",
      "=============================================\n",
      "Missing values: 0\n"
     ]
    }
   ],
   "source": [
    "explore_cat(df,\"StreamingTV\")"
   ]
  },
  {
   "cell_type": "code",
   "execution_count": 27,
   "metadata": {},
   "outputs": [
    {
     "name": "stdout",
     "output_type": "stream",
     "text": [
      "Summary\n",
      "============\n",
      "count     7043\n",
      "unique       3\n",
      "top         No\n",
      "freq      2785\n",
      "Name: StreamingMovies, dtype: object \n",
      "\n"
     ]
    },
    {
     "data": {
      "image/png": "[encoded data removed]",
      "text/plain": [
       "<Figure size 432x288 with 1 Axes>"
      ]
     },
     "metadata": {
      "needs_background": "light"
     },
     "output_type": "display_data"
    },
    {
     "name": "stdout",
     "output_type": "stream",
     "text": [
      "=============================================\n",
      "value counts \n",
      "\n",
      "No                     2785\n",
      "Yes                    2732\n",
      "No internet service    1526\n",
      "Name: StreamingMovies, dtype: int64 \n",
      "\n",
      "=============================================\n",
      "Missing values: 0\n"
     ]
    }
   ],
   "source": [
    "explore_cat(df,\"StreamingMovies\")"
   ]
  },
  {
   "cell_type": "code",
   "execution_count": 28,
   "metadata": {},
   "outputs": [
    {
     "name": "stdout",
     "output_type": "stream",
     "text": [
      "Summary\n",
      "============\n",
      "count               7043\n",
      "unique                 3\n",
      "top       Month-to-month\n",
      "freq                3875\n",
      "Name: Contract, dtype: object \n",
      "\n"
     ]
    },
    {
     "data": {
      "image/png": "[encoded data removed]",
      "text/plain": [
       "<Figure size 432x288 with 1 Axes>"
      ]
     },
     "metadata": {
      "needs_background": "light"
     },
     "output_type": "display_data"
    },
    {
     "name": "stdout",
     "output_type": "stream",
     "text": [
      "=============================================\n",
      "value counts \n",
      "\n",
      "Month-to-month    3875\n",
      "Two year          1695\n",
      "One year          1473\n",
      "Name: Contract, dtype: int64 \n",
      "\n",
      "=============================================\n",
      "Missing values: 0\n"
     ]
    }
   ],
   "source": [
    "explore_cat(df,\"Contract\")\n"
   ]
  },
  {
   "cell_type": "code",
   "execution_count": 29,
   "metadata": {},
   "outputs": [
    {
     "name": "stdout",
     "output_type": "stream",
     "text": [
      "Summary\n",
      "============\n",
      "count     7043\n",
      "unique       2\n",
      "top        Yes\n",
      "freq      4171\n",
      "Name: PaperlessBilling, dtype: object \n",
      "\n"
     ]
    },
    {
     "data": {
      "image/png": "[encoded data removed]",
      "text/plain": [
       "<Figure size 432x288 with 1 Axes>"
      ]
     },
     "metadata": {
      "needs_background": "light"
     },
     "output_type": "display_data"
    },
    {
     "name": "stdout",
     "output_type": "stream",
     "text": [
      "=============================================\n",
      "value counts \n",
      "\n",
      "Yes    4171\n",
      "No     2872\n",
      "Name: PaperlessBilling, dtype: int64 \n",
      "\n",
      "=============================================\n",
      "Missing values: 0\n"
     ]
    }
   ],
   "source": [
    "explore_cat(df, \"PaperlessBilling\")"
   ]
  },
  {
   "cell_type": "code",
   "execution_count": 30,
   "metadata": {
    "scrolled": false
   },
   "outputs": [
    {
     "name": "stdout",
     "output_type": "stream",
     "text": [
      "Summary\n",
      "============\n",
      "count                 7043\n",
      "unique                   4\n",
      "top       Electronic check\n",
      "freq                  2365\n",
      "Name: PaymentMethod, dtype: object \n",
      "\n"
     ]
    },
    {
     "data": {
      "image/png": "[encoded data removed]",
      "text/plain": [
       "<Figure size 432x288 with 1 Axes>"
      ]
     },
     "metadata": {
      "needs_background": "light"
     },
     "output_type": "display_data"
    },
    {
     "name": "stdout",
     "output_type": "stream",
     "text": [
      "=============================================\n",
      "value counts \n",
      "\n",
      "Electronic check             2365\n",
      "Mailed check                 1612\n",
      "Bank transfer (automatic)    1544\n",
      "Credit card (automatic)      1522\n",
      "Name: PaymentMethod, dtype: int64 \n",
      "\n",
      "=============================================\n",
      "Missing values: 0\n"
     ]
    }
   ],
   "source": [
    "explore_cat(df,\"PaymentMethod\")"
   ]
  },
  {
   "cell_type": "markdown",
   "metadata": {},
   "source": [
    "Unlike most of the variables which are binary, PaymentMethod has four uniques values. Electronic Check PaymeentMethod counts the highest of 2365 with the rest ranging between 1500 and 1600. There are no missing values.\n"
   ]
  },
  {
   "cell_type": "code",
   "execution_count": 31,
   "metadata": {
    "scrolled": false
   },
   "outputs": [
    {
     "name": "stdout",
     "output_type": "stream",
     "text": [
      "Summary\n",
      "============\n",
      "count     7043\n",
      "unique       2\n",
      "top         No\n",
      "freq      5174\n",
      "Name: Churn, dtype: object \n",
      "\n"
     ]
    },
    {
     "data": {
      "image/png": "[encoded data removed]",
      "text/plain": [
       "<Figure size 432x288 with 1 Axes>"
      ]
     },
     "metadata": {
      "needs_background": "light"
     },
     "output_type": "display_data"
    },
    {
     "name": "stdout",
     "output_type": "stream",
     "text": [
      "=============================================\n",
      "value counts \n",
      "\n",
      "No     5174\n",
      "Yes    1869\n",
      "Name: Churn, dtype: int64 \n",
      "\n",
      "=============================================\n",
      "Missing values: 0\n"
     ]
    }
   ],
   "source": [
    "explore_cat(df,\"Churn\")"
   ]
  },
  {
   "cell_type": "markdown",
   "metadata": {},
   "source": [
    "There are no missing values in the \"Churn\" column which is the target variable. However, the exploratory result shows that there is and imbalance betweeen the values in this column. No-Churn has 5174 value counts whilst Yes-Churn has 1869 value counts. The data has to be balance using SMOTE.  "
   ]
  },
  {
   "cell_type": "markdown",
   "metadata": {},
   "source": [
    "#### RELATIONSHIP BETWEEN CATEGORICAL VARIABLES\n"
   ]
  },
  {
   "cell_type": "markdown",
   "metadata": {},
   "source": [
    "Having explore the nature of the various categorical variables in the data, their association especially with target varibles, \"Churn\" would be tested. This would inform which variables should be dropped as predictors. \n",
    "\n"
   ]
  },
  {
   "cell_type": "code",
   "execution_count": 32,
   "metadata": {},
   "outputs": [],
   "source": [
    "#creating a test function\n",
    "from bioinfokit.analys import stat\n",
    "\n",
    "def test_association(df,x,y):\n",
    "    table = pd.crosstab(df[x],df[y])\n",
    "    test = stat()\n",
    "    test.chisq(df = table)\n",
    "    \n",
    "    print(\"Null hypothesis: {} and {} are independent\".format(x,y))\n",
    "    print(\"Alternative hypothesis: {} and {} are dependent\\n\".format(x,y))\n",
    "    print(\"Test results\")\n",
    "    print(\"=\"*50)\n",
    "    print(\"Observed frequency values \\n\")\n",
    "    print(table)\n",
    "    \n",
    "    print(\"*\"*50)\n",
    "    #print(test.expected_dataset)\n",
    "    print(\"*\"*50)\n",
    "    print(test.summary)\n",
    "    "
   ]
  },
  {
   "cell_type": "code",
   "execution_count": 33,
   "metadata": {
    "scrolled": false
   },
   "outputs": [
    {
     "name": "stdout",
     "output_type": "stream",
     "text": [
      "Null hypothesis: Churn and gender are independent\n",
      "Alternative hypothesis: Churn and gender are dependent\n",
      "\n",
      "Test results\n",
      "==================================================\n",
      "Observed frequency values \n",
      "\n",
      "gender  Female  Male\n",
      "Churn               \n",
      "No        2549  2625\n",
      "Yes        939   930\n",
      "**************************************************\n",
      "**************************************************\n",
      "\n",
      "Chi-squared test for independence\n",
      "\n",
      "Test              Df    Chi-square    P-value\n",
      "--------------  ----  ------------  ---------\n",
      "Pearson            1      0.484083   0.486579\n",
      "Log-likelihood     1      0.484068   0.486586\n",
      "\n"
     ]
    }
   ],
   "source": [
    "\n",
    "test_association(df,\"Churn\", \"gender\")"
   ]
  },
  {
   "cell_type": "markdown",
   "metadata": {},
   "source": [
    "At a significant value of 0.05 with a resultant p-value of 0.486579, there are is no enough evidence to reject the null hypothesis. In essence, there is no association between gender of a customer and the likelihood of churning."
   ]
  },
  {
   "cell_type": "code",
   "execution_count": 34,
   "metadata": {},
   "outputs": [
    {
     "name": "stdout",
     "output_type": "stream",
     "text": [
      "Null hypothesis: Churn and Partner are independent\n",
      "Alternative hypothesis: Churn and Partner are dependent\n",
      "\n",
      "Test results\n",
      "==================================================\n",
      "Observed frequency values \n",
      "\n",
      "Partner    No   Yes\n",
      "Churn              \n",
      "No       2441  2733\n",
      "Yes      1200   669\n",
      "**************************************************\n",
      "**************************************************\n",
      "\n",
      "Chi-squared test for independence\n",
      "\n",
      "Test              Df    Chi-square      P-value\n",
      "--------------  ----  ------------  -----------\n",
      "Pearson            1       158.733  2.13991e-36\n",
      "Log-likelihood     1       160.64   8.20128e-37\n",
      "\n"
     ]
    }
   ],
   "source": [
    "test_association(df,\"Churn\",\"Partner\")"
   ]
  },
  {
   "cell_type": "markdown",
   "metadata": {},
   "source": [
    "Testing whether customers who have partners are more likely to leave or not. With a p-value of 2.13991e-36 at a significant level of 0.05, is enough evidence to reject the null hypothesis. Meaning the relationship status of a customer is associated with the likelihood of churning.\n"
   ]
  },
  {
   "cell_type": "code",
   "execution_count": 35,
   "metadata": {
    "scrolled": false
   },
   "outputs": [
    {
     "name": "stdout",
     "output_type": "stream",
     "text": [
      "Null hypothesis: Churn and Dependents are independent\n",
      "Alternative hypothesis: Churn and Dependents are dependent\n",
      "\n",
      "Test results\n",
      "==================================================\n",
      "Observed frequency values \n",
      "\n",
      "Dependents    No   Yes\n",
      "Churn                 \n",
      "No          3390  1784\n",
      "Yes         1543   326\n",
      "**************************************************\n",
      "**************************************************\n",
      "\n",
      "Chi-squared test for independence\n",
      "\n",
      "Test              Df    Chi-square      P-value\n",
      "--------------  ----  ------------  -----------\n",
      "Pearson            1       189.129  4.92492e-43\n",
      "Log-likelihood     1       202.874  4.92722e-46\n",
      "\n"
     ]
    }
   ],
   "source": [
    "test_association(df,\"Churn\", \"Dependents\")"
   ]
  },
  {
   "cell_type": "markdown",
   "metadata": {},
   "source": [
    "With a p-value of 4.92492e-43 at a significant value of 0.05, there is enough evidence ot reject the null hypothesis that there is no association between whether a customer has dependence and his likelihood of churning.\n",
    "\n"
   ]
  },
  {
   "cell_type": "code",
   "execution_count": 36,
   "metadata": {
    "scrolled": false
   },
   "outputs": [
    {
     "name": "stdout",
     "output_type": "stream",
     "text": [
      "Null hypothesis: Churn and PhoneService are independent\n",
      "Alternative hypothesis: Churn and PhoneService are dependent\n",
      "\n",
      "Test results\n",
      "==================================================\n",
      "Observed frequency values \n",
      "\n",
      "PhoneService   No   Yes\n",
      "Churn                  \n",
      "No            512  4662\n",
      "Yes           170  1699\n",
      "**************************************************\n",
      "**************************************************\n",
      "\n",
      "Chi-squared test for independence\n",
      "\n",
      "Test              Df    Chi-square    P-value\n",
      "--------------  ----  ------------  ---------\n",
      "Pearson            1      0.915033   0.338783\n",
      "Log-likelihood     1      0.925475   0.336041\n",
      "\n"
     ]
    }
   ],
   "source": [
    "test_association(df, \"Churn\", \"PhoneService\")"
   ]
  },
  {
   "cell_type": "markdown",
   "metadata": {},
   "source": [
    "A p-value of 0.338783 at significant level of 0.05 indicates there is not enough evidence to reject the null hypothesis of independence between customer churning and whether the customer uses phone services. However, understanding of the business shows that there phone service usage is an important factor regardless the statistical evidence. "
   ]
  },
  {
   "cell_type": "code",
   "execution_count": 37,
   "metadata": {},
   "outputs": [
    {
     "name": "stdout",
     "output_type": "stream",
     "text": [
      "Null hypothesis: Churn and MultipleLines are independent\n",
      "Alternative hypothesis: Churn and MultipleLines are dependent\n",
      "\n",
      "Test results\n",
      "==================================================\n",
      "Observed frequency values \n",
      "\n",
      "MultipleLines    No  No phone service   Yes\n",
      "Churn                                      \n",
      "No             2541               512  2121\n",
      "Yes             849               170   850\n",
      "**************************************************\n",
      "**************************************************\n",
      "\n",
      "Chi-squared test for independence\n",
      "\n",
      "Test              Df    Chi-square     P-value\n",
      "--------------  ----  ------------  ----------\n",
      "Pearson            2       11.3304  0.00346438\n",
      "Log-likelihood     2       11.2866  0.00354111\n",
      "\n"
     ]
    }
   ],
   "source": [
    "test_association(df,\"Churn\",\"MultipleLines\")"
   ]
  },
  {
   "cell_type": "markdown",
   "metadata": {},
   "source": [
    "p-value of 0.00346438 at a significant level of 0.05 there is enough evidence to reject the null hypothesis. There is an association between customer churning the usage of multiple lines."
   ]
  },
  {
   "cell_type": "code",
   "execution_count": 38,
   "metadata": {
    "scrolled": false
   },
   "outputs": [
    {
     "name": "stdout",
     "output_type": "stream",
     "text": [
      "Null hypothesis: Churn and InternetService are independent\n",
      "Alternative hypothesis: Churn and InternetService are dependent\n",
      "\n",
      "Test results\n",
      "==================================================\n",
      "Observed frequency values \n",
      "\n",
      "InternetService   DSL  Fiber optic    No\n",
      "Churn                                   \n",
      "No               1962         1799  1413\n",
      "Yes               459         1297   113\n",
      "**************************************************\n",
      "**************************************************\n",
      "\n",
      "Chi-squared test for independence\n",
      "\n",
      "Test              Df    Chi-square       P-value\n",
      "--------------  ----  ------------  ------------\n",
      "Pearson            2       732.31   9.57179e-160\n",
      "Log-likelihood     2       782.818  1.03095e-170\n",
      "\n"
     ]
    }
   ],
   "source": [
    "test_association(df,\"Churn\",\"InternetService\")"
   ]
  },
  {
   "cell_type": "markdown",
   "metadata": {},
   "source": [
    "With a p-value of 9.57179e-160 at a significant level of 0.05, there is enough evidence to reject the null hypothesis that there is there is no association or independence exists between customers using multiple lines and their liklihood of churning."
   ]
  },
  {
   "cell_type": "code",
   "execution_count": 39,
   "metadata": {
    "scrolled": false
   },
   "outputs": [
    {
     "name": "stdout",
     "output_type": "stream",
     "text": [
      "Null hypothesis: Churn and OnlineSecurity are independent\n",
      "Alternative hypothesis: Churn and OnlineSecurity are dependent\n",
      "\n",
      "Test results\n",
      "==================================================\n",
      "Observed frequency values \n",
      "\n",
      "OnlineSecurity    No  No internet service   Yes\n",
      "Churn                                          \n",
      "No              2037                 1413  1724\n",
      "Yes             1461                  113   295\n",
      "**************************************************\n",
      "**************************************************\n",
      "\n",
      "Chi-squared test for independence\n",
      "\n",
      "Test              Df    Chi-square       P-value\n",
      "--------------  ----  ------------  ------------\n",
      "Pearson            2       849.999  2.66115e-185\n",
      "Log-likelihood     2       911.044  1.47661e-198\n",
      "\n"
     ]
    }
   ],
   "source": [
    "test_association(df, \"Churn\", \"OnlineSecurity\")"
   ]
  },
  {
   "cell_type": "markdown",
   "metadata": {},
   "source": [
    "At a significant level of 0.05 with a p-value of 2.66115e-185, there is enough evidence to reject the null hypothesis. There is an association between customer's security online and the likelihood of churning."
   ]
  },
  {
   "cell_type": "code",
   "execution_count": 40,
   "metadata": {},
   "outputs": [
    {
     "name": "stdout",
     "output_type": "stream",
     "text": [
      "Null hypothesis: Churn and OnlineBackup are independent\n",
      "Alternative hypothesis: Churn and OnlineBackup are dependent\n",
      "\n",
      "Test results\n",
      "==================================================\n",
      "Observed frequency values \n",
      "\n",
      "OnlineBackup    No  No internet service   Yes\n",
      "Churn                                        \n",
      "No            1855                 1413  1906\n",
      "Yes           1233                  113   523\n",
      "**************************************************\n",
      "**************************************************\n",
      "\n",
      "Chi-squared test for independence\n",
      "\n",
      "Test              Df    Chi-square       P-value\n",
      "--------------  ----  ------------  ------------\n",
      "Pearson            2       601.813  2.07976e-131\n",
      "Log-likelihood     2       659.117  7.49267e-144\n",
      "\n"
     ]
    }
   ],
   "source": [
    "test_association(df, \"Churn\", \"OnlineBackup\")"
   ]
  },
  {
   "cell_type": "markdown",
   "metadata": {},
   "source": [
    "With a p-value of 2.07976e-131 and at a significant level of 0.05, there is enough evidence of that the null to reject the null hypothesis. There if therefore association between whether a customer has online backup and the chance of the customer leaving."
   ]
  },
  {
   "cell_type": "code",
   "execution_count": 41,
   "metadata": {},
   "outputs": [
    {
     "name": "stdout",
     "output_type": "stream",
     "text": [
      "Null hypothesis: Churn and DeviceProtection are independent\n",
      "Alternative hypothesis: Churn and DeviceProtection are dependent\n",
      "\n",
      "Test results\n",
      "==================================================\n",
      "Observed frequency values \n",
      "\n",
      "DeviceProtection    No  No internet service   Yes\n",
      "Churn                                            \n",
      "No                1884                 1413  1877\n",
      "Yes               1211                  113   545\n",
      "**************************************************\n",
      "**************************************************\n",
      "\n",
      "Chi-squared test for independence\n",
      "\n",
      "Test              Df    Chi-square       P-value\n",
      "--------------  ----  ------------  ------------\n",
      "Pearson            2       558.419  5.50522e-122\n",
      "Log-likelihood     2       618.614  4.67484e-135\n",
      "\n"
     ]
    }
   ],
   "source": [
    "test_association(df, \"Churn\",\"DeviceProtection\")"
   ]
  },
  {
   "cell_type": "markdown",
   "metadata": {},
   "source": [
    "With a p-value of 5.50522e-122 at a significant value of 0.05, there is enough evidence to reject null hypothesis that there independence between whether a customer's is protected and the likelihood of churning."
   ]
  },
  {
   "cell_type": "code",
   "execution_count": 42,
   "metadata": {
    "scrolled": false
   },
   "outputs": [
    {
     "name": "stdout",
     "output_type": "stream",
     "text": [
      "Null hypothesis: Churn and TechSupport are independent\n",
      "Alternative hypothesis: Churn and TechSupport are dependent\n",
      "\n",
      "Test results\n",
      "==================================================\n",
      "Observed frequency values \n",
      "\n",
      "TechSupport    No  No internet service   Yes\n",
      "Churn                                       \n",
      "No           2027                 1413  1734\n",
      "Yes          1446                  113   310\n",
      "**************************************************\n",
      "**************************************************\n",
      "\n",
      "Chi-squared test for independence\n",
      "\n",
      "Test              Df    Chi-square       P-value\n",
      "--------------  ----  ------------  ------------\n",
      "Pearson            2       828.197  1.44308e-180\n",
      "Log-likelihood     2       887.714  1.71904e-193\n",
      "\n"
     ]
    }
   ],
   "source": [
    "\n",
    "test_association(df,\"Churn\" ,\"TechSupport\")"
   ]
  },
  {
   "cell_type": "markdown",
   "metadata": {},
   "source": [
    "With a p-value at significant value of 0.05, there is enough evidence to reject the null hypothesis that there is independence between customers receiving technical support and the likelihood of leaving the company as a customer. "
   ]
  },
  {
   "cell_type": "code",
   "execution_count": 43,
   "metadata": {
    "scrolled": false
   },
   "outputs": [
    {
     "name": "stdout",
     "output_type": "stream",
     "text": [
      "Null hypothesis: Churn and StreamingTV are independent\n",
      "Alternative hypothesis: Churn and StreamingTV are dependent\n",
      "\n",
      "Test results\n",
      "==================================================\n",
      "Observed frequency values \n",
      "\n",
      "StreamingTV    No  No internet service   Yes\n",
      "Churn                                       \n",
      "No           1868                 1413  1893\n",
      "Yes           942                  113   814\n",
      "**************************************************\n",
      "**************************************************\n",
      "\n",
      "Chi-squared test for independence\n",
      "\n",
      "Test              Df    Chi-square      P-value\n",
      "--------------  ----  ------------  -----------\n",
      "Pearson            2       374.204  5.52899e-82\n",
      "Log-likelihood     2       449.456  2.52305e-98\n",
      "\n"
     ]
    }
   ],
   "source": [
    "test_association(df,\"Churn\", \"StreamingTV\")"
   ]
  },
  {
   "cell_type": "markdown",
   "metadata": {},
   "source": [
    "With a p-value of 5.52899e-82 at a significant value of 0.0, there is enough evidence to reject the null hypothesis. There is association between customers streaming TV online and their likelihood of churning."
   ]
  },
  {
   "cell_type": "code",
   "execution_count": 44,
   "metadata": {
    "scrolled": false
   },
   "outputs": [
    {
     "name": "stdout",
     "output_type": "stream",
     "text": [
      "Null hypothesis: Churn and StreamingMovies are independent\n",
      "Alternative hypothesis: Churn and StreamingMovies are dependent\n",
      "\n",
      "Test results\n",
      "==================================================\n",
      "Observed frequency values \n",
      "\n",
      "StreamingMovies    No  No internet service   Yes\n",
      "Churn                                           \n",
      "No               1847                 1413  1914\n",
      "Yes               938                  113   818\n",
      "**************************************************\n",
      "**************************************************\n",
      "\n",
      "Chi-squared test for independence\n",
      "\n",
      "Test              Df    Chi-square      P-value\n",
      "--------------  ----  ------------  -----------\n",
      "Pearson            2       375.661  2.66776e-82\n",
      "Log-likelihood     2       450.765  1.31082e-98\n",
      "\n"
     ]
    }
   ],
   "source": [
    "test_association(df, \"Churn\",\"StreamingMovies\")"
   ]
  },
  {
   "cell_type": "markdown",
   "metadata": {},
   "source": [
    "With a p-value of 2.66776e-82 at a significant value of 0.05, there is enough evidence for rejecting the null hypothesis of independence between customers streaming movies and the likelihood of churning. "
   ]
  },
  {
   "cell_type": "code",
   "execution_count": 45,
   "metadata": {},
   "outputs": [
    {
     "name": "stdout",
     "output_type": "stream",
     "text": [
      "Null hypothesis: Churn and Contract are independent\n",
      "Alternative hypothesis: Churn and Contract are dependent\n",
      "\n",
      "Test results\n",
      "==================================================\n",
      "Observed frequency values \n",
      "\n",
      "Contract  Month-to-month  One year  Two year\n",
      "Churn                                       \n",
      "No                  2220      1307      1647\n",
      "Yes                 1655       166        48\n",
      "**************************************************\n",
      "**************************************************\n",
      "\n",
      "Chi-squared test for independence\n",
      "\n",
      "Test              Df    Chi-square       P-value\n",
      "--------------  ----  ------------  ------------\n",
      "Pearson            2       1184.6   5.86304e-258\n",
      "Log-likelihood     2       1386.81  7.2127e-302\n",
      "\n"
     ]
    }
   ],
   "source": [
    "test_association(df, \"Churn\", \"Contract\")"
   ]
  },
  {
   "cell_type": "markdown",
   "metadata": {},
   "source": [
    "With a p-value of 5.86304e-258 at a significant level of 0.05, there is enough evidence to reject the null hypothesis that there is independence between contract and churning. "
   ]
  },
  {
   "cell_type": "code",
   "execution_count": 46,
   "metadata": {},
   "outputs": [
    {
     "name": "stdout",
     "output_type": "stream",
     "text": [
      "Null hypothesis: Churn and PaperlessBilling are independent\n",
      "Alternative hypothesis: Churn and PaperlessBilling are dependent\n",
      "\n",
      "Test results\n",
      "==================================================\n",
      "Observed frequency values \n",
      "\n",
      "PaperlessBilling    No   Yes\n",
      "Churn                       \n",
      "No                2403  2771\n",
      "Yes                469  1400\n",
      "**************************************************\n",
      "**************************************************\n",
      "\n",
      "Chi-squared test for independence\n",
      "\n",
      "Test              Df    Chi-square      P-value\n",
      "--------------  ----  ------------  -----------\n",
      "Pearson            1       258.278  4.07335e-58\n",
      "Log-likelihood     1       269.422  1.51657e-60\n",
      "\n"
     ]
    }
   ],
   "source": [
    "test_association(df, \"Churn\", \"PaperlessBilling\")"
   ]
  },
  {
   "cell_type": "markdown",
   "metadata": {},
   "source": [
    "With a p-value of 4.07335e-58 at a significant level of 0.05, there is enough evidence to reject the null hypothesis. There is association between paperlessbilling and churning."
   ]
  },
  {
   "cell_type": "code",
   "execution_count": 47,
   "metadata": {
    "scrolled": false
   },
   "outputs": [
    {
     "name": "stdout",
     "output_type": "stream",
     "text": [
      "Null hypothesis: Churn and PaymentMethod are independent\n",
      "Alternative hypothesis: Churn and PaymentMethod are dependent\n",
      "\n",
      "Test results\n",
      "==================================================\n",
      "Observed frequency values \n",
      "\n",
      "PaymentMethod  Bank transfer (automatic)  Credit card (automatic)  \\\n",
      "Churn                                                               \n",
      "No                                  1286                     1290   \n",
      "Yes                                  258                      232   \n",
      "\n",
      "PaymentMethod  Electronic check  Mailed check  \n",
      "Churn                                          \n",
      "No                         1294          1304  \n",
      "Yes                        1071           308  \n",
      "**************************************************\n",
      "**************************************************\n",
      "\n",
      "Chi-squared test for independence\n",
      "\n",
      "Test              Df    Chi-square       P-value\n",
      "--------------  ----  ------------  ------------\n",
      "Pearson            3       648.142  3.68235e-140\n",
      "Log-likelihood     3       627.09   1.35033e-135\n",
      "\n"
     ]
    }
   ],
   "source": [
    "test_association(df, \"Churn\",\"PaymentMethod\")"
   ]
  },
  {
   "cell_type": "markdown",
   "metadata": {},
   "source": [
    "With a p-value of 3.68235e-140 at a significant value of 0.05, there is enough evidence to reject the null hypothesis. There is an association between payment methods and customer churning."
   ]
  },
  {
   "cell_type": "markdown",
   "metadata": {},
   "source": [
    "### EXPLORING THE NUMERICAL VALUES"
   ]
  },
  {
   "cell_type": "code",
   "execution_count": 48,
   "metadata": {
    "scrolled": true
   },
   "outputs": [
    {
     "name": "stdout",
     "output_type": "stream",
     "text": [
      "SeniorCitizen\n",
      "tenure\n",
      "MonthlyCharges\n",
      "TotalCharges\n"
     ]
    }
   ],
   "source": [
    "# getting the numerical columns of the dataset.\n",
    "for col in numerical_var.columns:\n",
    "    print (col)"
   ]
  },
  {
   "cell_type": "code",
   "execution_count": 49,
   "metadata": {},
   "outputs": [],
   "source": [
    "# plotting a histogram and boxplot to show the distribution of the variables\n",
    "def plot_chart(df, col):\n",
    "    import matplotlib.gridspec as gridspec\n",
    "    import matplotlib.style as style\n",
    "    style.use(\"fivethirtyeight\")\n",
    "    \n",
    "    #customising the visualisation\n",
    "    fig = plt.figure(constrained_layout = True, figsize = (8,6))\n",
    "    grid = gridspec.GridSpec(ncols = 3, nrows = 3, figure = fig)\n",
    "    \n",
    "    \n",
    "    ax1 = fig.add_subplot(grid[0, :2])\n",
    "    ax1.set_title(\"Histogram\")\n",
    "    sns.distplot(df.loc[:,col],norm_hist = True, ax = ax1)\n",
    "    \n",
    "    ax2 = fig.add_subplot(grid[:, 2])\n",
    "    ax2.set_title(\"Boxplot\")\n",
    "    sns.boxplot(df.loc[:, col], orient = \"v\", ax = ax2)\n",
    "    \n",
    "    \n"
   ]
  },
  {
   "cell_type": "code",
   "execution_count": 50,
   "metadata": {
    "scrolled": false
   },
   "outputs": [
    {
     "data": {
      "image/png": "[encoded data removed]",
      "text/plain": [
       "<Figure size 576x432 with 2 Axes>"
      ]
     },
     "metadata": {},
     "output_type": "display_data"
    }
   ],
   "source": [
    "plot_chart(df,\"tenure\")"
   ]
  },
  {
   "cell_type": "code",
   "execution_count": 51,
   "metadata": {},
   "outputs": [
    {
     "data": {
      "image/png": "[encoded data removed]",
      "text/plain": [
       "<Figure size 576x432 with 2 Axes>"
      ]
     },
     "metadata": {},
     "output_type": "display_data"
    }
   ],
   "source": [
    "plot_chart(df,\"SeniorCitizen\")"
   ]
  },
  {
   "cell_type": "code",
   "execution_count": 52,
   "metadata": {},
   "outputs": [
    {
     "data": {
      "image/png": "[encoded data removed]",
      "text/plain": [
       "<Figure size 576x432 with 2 Axes>"
      ]
     },
     "metadata": {},
     "output_type": "display_data"
    }
   ],
   "source": [
    "plot_chart(df, \"MonthlyCharges\")"
   ]
  },
  {
   "cell_type": "code",
   "execution_count": null,
   "metadata": {},
   "outputs": [],
   "source": []
  },
  {
   "cell_type": "code",
   "execution_count": 53,
   "metadata": {},
   "outputs": [
    {
     "data": {
      "image/png": "[encoded data removed]",
      "text/plain": [
       "<Figure size 576x432 with 2 Axes>"
      ]
     },
     "metadata": {},
     "output_type": "display_data"
    }
   ],
   "source": [
    "plot_chart(df, \"TotalCharges\")"
   ]
  },
  {
   "cell_type": "markdown",
   "metadata": {},
   "source": [
    "The TotalCharges, for the histogram, is right skewed. Having the mean below the median as indicated in the boxplot. "
   ]
  },
  {
   "cell_type": "code",
   "execution_count": 54,
   "metadata": {},
   "outputs": [],
   "source": [
    "cor = numerical_var.corr()"
   ]
  },
  {
   "cell_type": "code",
   "execution_count": 55,
   "metadata": {
    "scrolled": false
   },
   "outputs": [
    {
     "data": {
      "image/png": "[encoded data removed]",
      "text/plain": [
       "<Figure size 576x432 with 2 Axes>"
      ]
     },
     "metadata": {},
     "output_type": "display_data"
    }
   ],
   "source": [
    "plt.figure(figsize = (8,6))\n",
    "matrix = np.triu(cor)\n",
    "sns.heatmap(cor, annot = True, cmap = 'cool', mask = matrix)\n",
    "plt.title(\"Heatmap showing the correlation between the variables\")\n",
    "plt.show()\n"
   ]
  },
  {
   "cell_type": "markdown",
   "metadata": {},
   "source": [
    "From the correlation heatmap above, it could observed that, TotalCharges have very high correlation of 0.83 with tenure and and 0.65 MonthlyCharges. The other variables have lower correlations with the highsest among them being 0.25 which exist between MonthlyCharges and teunure. Hence, the TotalCharges would be dropped as a predictor in the prediction. There would therefore, be no need to take take care of the its missing values. "
   ]
  },
  {
   "cell_type": "markdown",
   "metadata": {},
   "source": [
    "## DATA PREPROCESSING FOR MODELLING"
   ]
  },
  {
   "cell_type": "code",
   "execution_count": 56,
   "metadata": {},
   "outputs": [],
   "source": [
    "# dropping irrelevant features \n",
    "\n",
    "df.drop(columns =[\"TotalCharges\",\"gender\"], axis = 1, inplace = True)"
   ]
  },
  {
   "cell_type": "code",
   "execution_count": 57,
   "metadata": {},
   "outputs": [
    {
     "data": {
      "text/html": [
       "<div>\n",
       "<style scoped>\n",
       "    .dataframe tbody tr th:only-of-type {\n",
       "        vertical-align: middle;\n",
       "    }\n",
       "\n",
       "    .dataframe tbody tr th {\n",
       "        vertical-align: top;\n",
       "    }\n",
       "\n",
       "    .dataframe thead th {\n",
       "        text-align: right;\n",
       "    }\n",
       "</style>\n",
       "<table border=\"1\" class=\"dataframe\">\n",
       "  <thead>\n",
       "    <tr style=\"text-align: right;\">\n",
       "      <th></th>\n",
       "      <th>SeniorCitizen</th>\n",
       "      <th>Partner</th>\n",
       "      <th>Dependents</th>\n",
       "      <th>tenure</th>\n",
       "      <th>PhoneService</th>\n",
       "      <th>MultipleLines</th>\n",
       "      <th>InternetService</th>\n",
       "      <th>OnlineSecurity</th>\n",
       "      <th>OnlineBackup</th>\n",
       "      <th>DeviceProtection</th>\n",
       "      <th>TechSupport</th>\n",
       "      <th>StreamingTV</th>\n",
       "      <th>StreamingMovies</th>\n",
       "      <th>Contract</th>\n",
       "      <th>PaperlessBilling</th>\n",
       "      <th>PaymentMethod</th>\n",
       "      <th>MonthlyCharges</th>\n",
       "      <th>Churn</th>\n",
       "    </tr>\n",
       "  </thead>\n",
       "  <tbody>\n",
       "    <tr>\n",
       "      <th>0</th>\n",
       "      <td>0</td>\n",
       "      <td>Yes</td>\n",
       "      <td>No</td>\n",
       "      <td>1</td>\n",
       "      <td>No</td>\n",
       "      <td>No phone service</td>\n",
       "      <td>DSL</td>\n",
       "      <td>No</td>\n",
       "      <td>Yes</td>\n",
       "      <td>No</td>\n",
       "      <td>No</td>\n",
       "      <td>No</td>\n",
       "      <td>No</td>\n",
       "      <td>Month-to-month</td>\n",
       "      <td>Yes</td>\n",
       "      <td>Electronic check</td>\n",
       "      <td>29.85</td>\n",
       "      <td>No</td>\n",
       "    </tr>\n",
       "    <tr>\n",
       "      <th>1</th>\n",
       "      <td>0</td>\n",
       "      <td>No</td>\n",
       "      <td>No</td>\n",
       "      <td>34</td>\n",
       "      <td>Yes</td>\n",
       "      <td>No</td>\n",
       "      <td>DSL</td>\n",
       "      <td>Yes</td>\n",
       "      <td>No</td>\n",
       "      <td>Yes</td>\n",
       "      <td>No</td>\n",
       "      <td>No</td>\n",
       "      <td>No</td>\n",
       "      <td>One year</td>\n",
       "      <td>No</td>\n",
       "      <td>Mailed check</td>\n",
       "      <td>56.95</td>\n",
       "      <td>No</td>\n",
       "    </tr>\n",
       "    <tr>\n",
       "      <th>2</th>\n",
       "      <td>0</td>\n",
       "      <td>No</td>\n",
       "      <td>No</td>\n",
       "      <td>2</td>\n",
       "      <td>Yes</td>\n",
       "      <td>No</td>\n",
       "      <td>DSL</td>\n",
       "      <td>Yes</td>\n",
       "      <td>Yes</td>\n",
       "      <td>No</td>\n",
       "      <td>No</td>\n",
       "      <td>No</td>\n",
       "      <td>No</td>\n",
       "      <td>Month-to-month</td>\n",
       "      <td>Yes</td>\n",
       "      <td>Mailed check</td>\n",
       "      <td>53.85</td>\n",
       "      <td>Yes</td>\n",
       "    </tr>\n",
       "  </tbody>\n",
       "</table>\n",
       "</div>"
      ],
      "text/plain": [
       "   SeniorCitizen Partner Dependents  tenure PhoneService     MultipleLines  \\\n",
       "0              0     Yes         No       1           No  No phone service   \n",
       "1              0      No         No      34          Yes                No   \n",
       "2              0      No         No       2          Yes                No   \n",
       "\n",
       "  InternetService OnlineSecurity OnlineBackup DeviceProtection TechSupport  \\\n",
       "0             DSL             No          Yes               No          No   \n",
       "1             DSL            Yes           No              Yes          No   \n",
       "2             DSL            Yes          Yes               No          No   \n",
       "\n",
       "  StreamingTV StreamingMovies        Contract PaperlessBilling  \\\n",
       "0          No              No  Month-to-month              Yes   \n",
       "1          No              No        One year               No   \n",
       "2          No              No  Month-to-month              Yes   \n",
       "\n",
       "      PaymentMethod  MonthlyCharges Churn  \n",
       "0  Electronic check           29.85    No  \n",
       "1      Mailed check           56.95    No  \n",
       "2      Mailed check           53.85   Yes  "
      ]
     },
     "execution_count": 57,
     "metadata": {},
     "output_type": "execute_result"
    }
   ],
   "source": [
    "df.head(3)"
   ]
  },
  {
   "cell_type": "code",
   "execution_count": 58,
   "metadata": {
    "scrolled": true
   },
   "outputs": [],
   "source": [
    "# function to get all the unique variables of the various columns.\n",
    "def  col_unique_values(df):\n",
    "    for column in df:\n",
    "        print(\"{}: {}\".format(column, df[column].unique()))"
   ]
  },
  {
   "cell_type": "code",
   "execution_count": 59,
   "metadata": {},
   "outputs": [
    {
     "name": "stdout",
     "output_type": "stream",
     "text": [
      "SeniorCitizen: [0 1]\n",
      "Partner: ['Yes' 'No']\n",
      "Dependents: ['No' 'Yes']\n",
      "tenure: [ 1 34  2 45  8 22 10 28 62 13 16 58 49 25 69 52 71 21 12 30 47 72 17 27\n",
      "  5 46 11 70 63 43 15 60 18 66  9  3 31 50 64 56  7 42 35 48 29 65 38 68\n",
      " 32 55 37 36 41  6  4 33 67 23 57 61 14 20 53 40 59 24 44 19 54 51 26  0\n",
      " 39]\n",
      "PhoneService: ['No' 'Yes']\n",
      "MultipleLines: ['No phone service' 'No' 'Yes']\n",
      "InternetService: ['DSL' 'Fiber optic' 'No']\n",
      "OnlineSecurity: ['No' 'Yes' 'No internet service']\n",
      "OnlineBackup: ['Yes' 'No' 'No internet service']\n",
      "DeviceProtection: ['No' 'Yes' 'No internet service']\n",
      "TechSupport: ['No' 'Yes' 'No internet service']\n",
      "StreamingTV: ['No' 'Yes' 'No internet service']\n",
      "StreamingMovies: ['No' 'Yes' 'No internet service']\n",
      "Contract: ['Month-to-month' 'One year' 'Two year']\n",
      "PaperlessBilling: ['Yes' 'No']\n",
      "PaymentMethod: ['Electronic check' 'Mailed check' 'Bank transfer (automatic)'\n",
      " 'Credit card (automatic)']\n",
      "MonthlyCharges: [29.85 56.95 53.85 ... 63.1  44.2  78.7 ]\n",
      "Churn: ['No' 'Yes']\n"
     ]
    }
   ],
   "source": [
    " col_unique_values(df)"
   ]
  },
  {
   "cell_type": "code",
   "execution_count": 60,
   "metadata": {},
   "outputs": [],
   "source": [
    "# replacing the \"No internet service\" values with \"No\" under internet related columns.\n",
    "# This is because saying \"No internet serivce\" is the same as saying \"No\" I dont use that particular service in \n",
    "#that column\n",
    "\n",
    "df[\"OnlineSecurity\"].replace({\"No internet service\":\"No\"},inplace=True)\n",
    "df[\"OnlineBackup\"].replace({\"No internet service\":\"No\"},inplace=True)\n",
    "df[\"DeviceProtection\"].replace({\"No internet service\":\"No\"},inplace=True)\n",
    "df[\"TechSupport\"].replace({\"No internet service\":\"No\"},inplace=True)\n",
    "df[\"StreamingTV\"].replace({\"No internet service\":\"No\"},inplace=True)\n",
    "df[\"StreamingMovies\"].replace({\"No internet service\":\"No\"},inplace=True)\n",
    "df[\"MultipleLines\"].replace({\"No phone service\":\"No\"},inplace=True)"
   ]
  },
  {
   "cell_type": "code",
   "execution_count": 61,
   "metadata": {},
   "outputs": [],
   "source": [
    "# function to get all the unique variables of the various columns.\n",
    "def  col_unique_values(df):\n",
    "    for column in df:\n",
    "        print(\"{}: {}\".format(column, df[column].unique()))"
   ]
  },
  {
   "cell_type": "code",
   "execution_count": 62,
   "metadata": {
    "scrolled": false
   },
   "outputs": [
    {
     "name": "stdout",
     "output_type": "stream",
     "text": [
      "SeniorCitizen: [0 1]\n",
      "Partner: ['Yes' 'No']\n",
      "Dependents: ['No' 'Yes']\n",
      "tenure: [ 1 34  2 45  8 22 10 28 62 13 16 58 49 25 69 52 71 21 12 30 47 72 17 27\n",
      "  5 46 11 70 63 43 15 60 18 66  9  3 31 50 64 56  7 42 35 48 29 65 38 68\n",
      " 32 55 37 36 41  6  4 33 67 23 57 61 14 20 53 40 59 24 44 19 54 51 26  0\n",
      " 39]\n",
      "PhoneService: ['No' 'Yes']\n",
      "MultipleLines: ['No' 'Yes']\n",
      "InternetService: ['DSL' 'Fiber optic' 'No']\n",
      "OnlineSecurity: ['No' 'Yes']\n",
      "OnlineBackup: ['Yes' 'No']\n",
      "DeviceProtection: ['No' 'Yes']\n",
      "TechSupport: ['No' 'Yes']\n",
      "StreamingTV: ['No' 'Yes']\n",
      "StreamingMovies: ['No' 'Yes']\n",
      "Contract: ['Month-to-month' 'One year' 'Two year']\n",
      "PaperlessBilling: ['Yes' 'No']\n",
      "PaymentMethod: ['Electronic check' 'Mailed check' 'Bank transfer (automatic)'\n",
      " 'Credit card (automatic)']\n",
      "MonthlyCharges: [29.85 56.95 53.85 ... 63.1  44.2  78.7 ]\n",
      "Churn: ['No' 'Yes']\n"
     ]
    }
   ],
   "source": [
    "col_unique_values(df)"
   ]
  },
  {
   "cell_type": "code",
   "execution_count": 63,
   "metadata": {},
   "outputs": [],
   "source": [
    "# OneHotEncoding to convert all the categorical values to numerical for modelling\n",
    "df = pd.get_dummies(df, columns=[\"Partner\",\"Dependents\",\"PhoneService\",\"MultipleLines\",\"InternetService\",\"OnlineSecurity\",\"OnlineBackup\",\n",
    "                            \"DeviceProtection\",\"TechSupport\",\"StreamingTV\",\"StreamingMovies\",\"Contract\",\"PaperlessBilling\",\n",
    "                            \"PaymentMethod\"],drop_first = True)"
   ]
  },
  {
   "cell_type": "code",
   "execution_count": 64,
   "metadata": {},
   "outputs": [],
   "source": [
    "# segregating the data into dependent and independent varialbles ie x and y\n",
    "X = df.drop([\"Churn\"],axis =1)\n",
    "y1 = df[\"Churn\"]\n",
    "y2 = pd.get_dummies(y1)\n",
    "y = y2.drop(columns = \"No\")"
   ]
  },
  {
   "cell_type": "markdown",
   "metadata": {},
   "source": [
    "#### Balancing the data"
   ]
  },
  {
   "cell_type": "code",
   "execution_count": 65,
   "metadata": {},
   "outputs": [],
   "source": [
    "import imblearn\n",
    "from imblearn.over_sampling import SMOTE"
   ]
  },
  {
   "cell_type": "code",
   "execution_count": 66,
   "metadata": {},
   "outputs": [],
   "source": [
    "from imblearn.over_sampling import SMOTE\n",
    "sm = SMOTE(random_state=0)\n",
    "X_resampled, y_resampled = sm.fit_resample(X, y)"
   ]
  },
  {
   "cell_type": "code",
   "execution_count": null,
   "metadata": {
    "scrolled": false
   },
   "outputs": [],
   "source": []
  },
  {
   "cell_type": "markdown",
   "metadata": {},
   "source": [
    "Splitting the data into train and test sets"
   ]
  },
  {
   "cell_type": "code",
   "execution_count": 67,
   "metadata": {
    "scrolled": true
   },
   "outputs": [
    {
     "name": "stdout",
     "output_type": "stream",
     "text": [
      "(4930, 21) (4930, 1)\n",
      "(2113, 21) (2113, 1)\n"
     ]
    }
   ],
   "source": [
    "from sklearn.model_selection import train_test_split\n",
    "X_train, X_test, y_train, y_test = train_test_split(X, y, test_size =0.30, stratify=y,random_state=0)\n",
    "\n",
    "print(X_train.shape, y_train.shape)\n",
    "print(X_test.shape, y_test.shape)"
   ]
  },
  {
   "cell_type": "markdown",
   "metadata": {},
   "source": [
    "The train set will be having 4930 rows and 21 columns to train the various models while the set will be having 2113 rows with the same number of columns of the train set."
   ]
  },
  {
   "cell_type": "markdown",
   "metadata": {},
   "source": [
    "## BUILDING  MODELS TO PREDICT  "
   ]
  },
  {
   "cell_type": "markdown",
   "metadata": {},
   "source": [
    "### 1. LOGISTIC REGRESSION"
   ]
  },
  {
   "cell_type": "code",
   "execution_count": 68,
   "metadata": {},
   "outputs": [],
   "source": [
    "from sklearn.linear_model import LogisticRegression"
   ]
  },
  {
   "cell_type": "code",
   "execution_count": 69,
   "metadata": {},
   "outputs": [
    {
     "name": "stdout",
     "output_type": "stream",
     "text": [
      "Best Cross-Validation Accuracy and Parameter\n",
      "*********************************************************\n",
      "Best cross-validation accuracy: 0.81\n",
      "Best parameter: {'C': 1}\n",
      "*********************************************************\n"
     ]
    }
   ],
   "source": [
    "# hyperparameter tunning with grid search and cross validation for Logistic regression\n",
    "\n",
    "# instantiating the logistic regression model\n",
    "\n",
    "lrg = LogisticRegression()\n",
    "param_grid = {'C':[0.01,0.05,0.5,0.1,1,5,10,50,70,100]}\n",
    "grid_lr = GridSearchCV(lrg, param_grid, cv = 6)\n",
    "grid_lr.fit(X_train, y_train)\n",
    "\n",
    "print(\"Best Cross-Validation Accuracy and Parameter\")\n",
    "print(\"*********************************************************\")\n",
    "print(\"Best cross-validation accuracy: {:.2f}\".format(grid_lr.best_score_))\n",
    "print(\"Best parameter:\", grid_lr.best_params_)\n",
    "print(\"*********************************************************\")\n"
   ]
  },
  {
   "cell_type": "code",
   "execution_count": 70,
   "metadata": {
    "scrolled": true
   },
   "outputs": [
    {
     "name": "stdout",
     "output_type": "stream",
     "text": [
      "Train Accuracy: 0.81\n",
      "Test Accuracy: 0.80 \n",
      "Percentage of overfitting 1.30%\n"
     ]
    }
   ],
   "source": [
    "# Logistic Regression with tuned hyper-parameter\n",
    "\n",
    "# instantiating the Logistic Regression\n",
    "lrg = LogisticRegression( C = 1)\n",
    "\n",
    "# fitting the model\n",
    "lrg.fit(X_train, y_train)\n",
    "\n",
    "# accuracy score for train and test\n",
    "\n",
    "lrg_train_acc = lrg.score(X_train, y_train)\n",
    "lrg_test_acc = lrg.score(X_test, y_test)\n",
    "\n",
    "print(\"Train Accuracy: {:.2f}\".format(lrg_train_acc))\n",
    "print(\"Test Accuracy: {:.2f} \".format(lrg_test_acc))\n",
    "print(\"Percentage of overfitting {:.2f}%\".format(((lrg_train_acc-lrg_test_acc)/lrg_train_acc*100)))\n",
    "\n",
    "lrg_prediction=grid_lr.predict(X_test)"
   ]
  },
  {
   "cell_type": "markdown",
   "metadata": {},
   "source": [
    "### 2. DECISION TREE CLASSIFIER"
   ]
  },
  {
   "cell_type": "code",
   "execution_count": 71,
   "metadata": {},
   "outputs": [],
   "source": [
    "from sklearn.tree import DecisionTreeClassifier "
   ]
  },
  {
   "cell_type": "code",
   "execution_count": 72,
   "metadata": {},
   "outputs": [
    {
     "name": "stdout",
     "output_type": "stream",
     "text": [
      "Best Cross-Validation Accuracy and Parameter\n",
      "*********************************************************\n",
      "Best cross-validation accuracy: 0.79\n",
      "Best parameter: {'max_features': 10, 'max_leaf_nodes': 4}\n",
      "*********************************************************\n"
     ]
    }
   ],
   "source": [
    "# Tunning the hyper parameter with gridsearch and cross validation\n",
    "\n",
    "# Instantiating the model\n",
    "\n",
    "tree = DecisionTreeClassifier(random_state = 0)\n",
    "param_grid = {\"max_features\": [1,2,3,4,5,6,7,8,9,10], \"max_leaf_nodes\":[1,2,3,4,5,6,7,8,9,10]}\n",
    "grid_tree = GridSearchCV(tree,param_grid = param_grid, cv = 6)\n",
    "grid_tree.fit(X_train,y_train)\n",
    "\n",
    "print(\"Best Cross-Validation Accuracy and Parameter\")\n",
    "print(\"*********************************************************\")\n",
    "print(\"Best cross-validation accuracy: {:.2f}\".format(grid_tree.best_score_))\n",
    "print(\"Best parameter:\", grid_tree.best_params_)\n",
    "print(\"*********************************************************\")"
   ]
  },
  {
   "cell_type": "code",
   "execution_count": 73,
   "metadata": {},
   "outputs": [
    {
     "name": "stdout",
     "output_type": "stream",
     "text": [
      "train accuracy: 0.79\n",
      "test_accuracy: 0.79\n",
      "Percentage of overfitting: 0.02%\n"
     ]
    }
   ],
   "source": [
    "# Instantiating the modelling by incorporating the best parameters\n",
    "tree = DecisionTreeClassifier(max_features = 10, max_leaf_nodes = 4,random_state = 0)\n",
    "\n",
    "# fitting the model \n",
    "tree.fit(X_train,y_train)\n",
    "\n",
    "#accuracies of train and test scores\n",
    "tr_acc = tree.score(X_train,y_train)\n",
    "te_acc = tree.score(X_test,y_test)\n",
    "\n",
    "print(\"train accuracy: {:.2f}\".format(tr_acc))\n",
    "print(\"test_accuracy: {:.2f}\".format(te_acc))\n",
    "\n",
    "print(\"Percentage of overfitting: {:.2f}%\".format(((tr_acc-te_acc)/tr_acc*100)))\n",
    "tree_prediction = grid_tree.predict(X_test)"
   ]
  },
  {
   "cell_type": "markdown",
   "metadata": {},
   "source": [
    "### 3. SUPPORT VECTOR MACHINE"
   ]
  },
  {
   "cell_type": "code",
   "execution_count": 74,
   "metadata": {},
   "outputs": [],
   "source": [
    "from sklearn.svm import SVC"
   ]
  },
  {
   "cell_type": "code",
   "execution_count": 75,
   "metadata": {},
   "outputs": [
    {
     "name": "stdout",
     "output_type": "stream",
     "text": [
      "Best Cross-Validation Accuracy and Parameter\n",
      "*********************************************************\n",
      "Best cross-validation accuracy: 0.80\n",
      "Best parameter: {'SVC__C': 10, 'SVC__gamma': 0.001}\n",
      "*********************************************************\n"
     ]
    }
   ],
   "source": [
    "# hyperparameter tuning with pipeline\n",
    "# the pipeline was used here because there was the need for the data to be scaled before the model is applied on it.\n",
    "# the standardscaler will be used in this instance. \n",
    "\n",
    "pipe  = Pipeline([(\"Scaler\", StandardScaler()), (\"SVC\", SVC(probability=True))])\n",
    "param_grid = {\"SVC__C\":[0.001,0.01,0.1,1,10,100], \"SVC__gamma\":[0.001, 0.01,0.1,1,10,100]}\n",
    "grid_svc = GridSearchCV(pipe, param_grid = param_grid, cv = 6)\n",
    "grid_svc.fit(X_train, y_train)\n",
    "\n",
    "print(\"Best Cross-Validation Accuracy and Parameter\")\n",
    "print(\"*********************************************************\")\n",
    "print(\"Best cross-validation accuracy: {:.2f}\".format(grid_svc.best_score_))\n",
    "print(\"Best parameter:\", grid_svc.best_params_)\n",
    "print(\"*********************************************************\")"
   ]
  },
  {
   "cell_type": "code",
   "execution_count": 76,
   "metadata": {},
   "outputs": [
    {
     "name": "stdout",
     "output_type": "stream",
     "text": [
      "Train Accuracy: 0.81\n",
      "Test Accuracy: 0.80 \n",
      "Percentage of overfitting 1.00%\n"
     ]
    }
   ],
   "source": [
    "# modelling with SVC using tuned hyperparaeter\n",
    "\n",
    "# instantiating the SVC model\n",
    "svc = Pipeline([(\"Scaler\",StandardScaler()), (\"SVC\",SVC(C=10,gamma=0.001,probability=True))])\n",
    "svc_model = svc.fit(X_train,y_train)\n",
    "\n",
    "svc_train_score = svc.score(X_train, y_train)\n",
    "svc_test_score = svc.score(X_test, y_test)\n",
    "\n",
    "print(\"Train Accuracy: {:.2f}\".format(svc_train_score))\n",
    "print(\"Test Accuracy: {:.2f} \".format(svc_test_score))\n",
    "print(\"Percentage of overfitting {:.2f}%\".format(((svc_train_score-svc_test_score)/svc_train_score*100)))\n",
    "\n",
    "svc_prediction=grid_svc.predict(X_test)"
   ]
  },
  {
   "cell_type": "markdown",
   "metadata": {
    "scrolled": false
   },
   "source": [
    "### 4. GRADIENT BOOSTING CLASSIFIER"
   ]
  },
  {
   "cell_type": "code",
   "execution_count": 77,
   "metadata": {},
   "outputs": [],
   "source": [
    "from sklearn.ensemble import GradientBoostingClassifier"
   ]
  },
  {
   "cell_type": "code",
   "execution_count": 78,
   "metadata": {},
   "outputs": [
    {
     "name": "stdout",
     "output_type": "stream",
     "text": [
      "Best Cross-Validation Accuracy and Parameter\n",
      "*********************************************************\n",
      "Best cross-validation accuracy: 0.80\n",
      "Best parameter: {'max_features': 2, 'max_leaf_nodes': 2}\n",
      "*********************************************************\n"
     ]
    }
   ],
   "source": [
    "# hyperparameter tunning \n",
    "gbc = GradientBoostingClassifier(n_estimators = 300, max_depth=1, random_state=0)\n",
    "param_grid = {\"max_features\":[1,2,3,4,5,6,7,8,9,10],\n",
    "           \"max_leaf_nodes\":[1,2,3,4,5,6,7,8,9,10]}\n",
    "grid_gbc = GridSearchCV(gbc, param_grid = param_grid, cv = 6)\n",
    "\n",
    "grid_gbc.fit(X_train,y_train)\n",
    "\n",
    "# fitting the model to get the best parameters\n",
    "grid_gbc.fit(X_train, y_train)\n",
    "print(\"Best Cross-Validation Accuracy and Parameter\")\n",
    "print(\"*********************************************************\")\n",
    "print(\"Best cross-validation accuracy: {:.2f}\".format(grid_gbc.best_score_))\n",
    "print(\"Best parameter:\", grid_gbc.best_params_)\n",
    "print(\"*********************************************************\")"
   ]
  },
  {
   "cell_type": "code",
   "execution_count": 79,
   "metadata": {
    "scrolled": true
   },
   "outputs": [
    {
     "name": "stdout",
     "output_type": "stream",
     "text": [
      "Train Accuracy: 0.81\n",
      "Test Accuracy: 0.80 \n",
      "Percentage of overfitting 0.88%\n"
     ]
    }
   ],
   "source": [
    "# Instantiating the Gradient Boosting Classifier\n",
    "gbc = GradientBoostingClassifier(n_estimators = 500, max_depth=1, max_features = 2, max_leaf_nodes  = 2,random_state=0)\n",
    "\n",
    "# fit the model to the data\n",
    "gbc.fit(X_train,y_train)\n",
    "y_pred = gbc.predict(X_test)\n",
    "accuracy = accuracy_score(y_test,y_pred)\n",
    "\n",
    "gbc_train_acc = gbc.score(X_train, y_train)\n",
    "gbc_test_acc = gbc.score(X_test, y_test)\n",
    "\n",
    "print(\"Train Accuracy: {:.2f}\".format(gbc_train_acc))\n",
    "print(\"Test Accuracy: {:.2f} \".format(gbc_test_acc))\n",
    "print(\"Percentage of overfitting {:.2f}%\".format(((gbc_train_acc-gbc_test_acc)/gbc_train_acc*100)))\n",
    "\n",
    "gbc_prediction=grid_gbc.predict(X_test)"
   ]
  },
  {
   "cell_type": "markdown",
   "metadata": {},
   "source": [
    "### 5. ADA BOOST CLASSIFIER\n"
   ]
  },
  {
   "cell_type": "code",
   "execution_count": 80,
   "metadata": {},
   "outputs": [],
   "source": [
    "from sklearn.ensemble import AdaBoostClassifier"
   ]
  },
  {
   "cell_type": "code",
   "execution_count": 81,
   "metadata": {},
   "outputs": [
    {
     "name": "stdout",
     "output_type": "stream",
     "text": [
      "Train Accuracy of ADB_clf: 0.81\n",
      "Test Accuracy ADB_clf: 0.80 \n"
     ]
    }
   ],
   "source": [
    "\n",
    "#instantiating Decision Tree as the base estimator\n",
    "dt = DecisionTreeClassifier(max_depth = 1, random_state = 0)\n",
    "\n",
    "# Instantiating the AdaBoost classifier\n",
    "adb_clf = AdaBoostClassifier(base_estimator=dt, n_estimators =60, random_state = 0 )\n",
    "\n",
    "#fitting the AdaBoost model to the data\n",
    "adb_clf.fit(X_train,y_train)\n",
    "\n",
    "print(\"Train Accuracy of ADB_clf: {:.2f}\".format(adb_clf.score(X_train,y_train)))\n",
    "print(\"Test Accuracy ADB_clf: {:.2f} \".format(adb_clf.score(X_test,y_test)))\n",
    "# print(\"Percentage of overfitting {:.2f}%\".format(((adb_clf_train_acc-gbc_test_acc)/gbc_train_acc*100)))\n",
    "\n",
    "adb_clf_prediction= adb_clf.predict(X_test)\n"
   ]
  },
  {
   "cell_type": "markdown",
   "metadata": {},
   "source": [
    "### 6. RANDOM FOREST CLASSIFIER"
   ]
  },
  {
   "cell_type": "code",
   "execution_count": 82,
   "metadata": {},
   "outputs": [],
   "source": [
    "from sklearn.ensemble import RandomForestClassifier"
   ]
  },
  {
   "cell_type": "code",
   "execution_count": 83,
   "metadata": {
    "scrolled": true
   },
   "outputs": [
    {
     "name": "stdout",
     "output_type": "stream",
     "text": [
      "Best Cross-Validation Accuracy and Parameter\n",
      "*********************************************************\n",
      "Best cross-validation accuracy: 0.79\n",
      "Best parameter: {'max_depth': 5, 'max_features': 4, 'max_leaf_nodes': 10}\n",
      "*********************************************************\n"
     ]
    }
   ],
   "source": [
    "\n",
    "# hyperparameter tunning\n",
    "# the parameters used here are max_depth and max_features\n",
    "\n",
    "# instantiating the Random Forest Model\n",
    "\n",
    "rfc  = RandomForestClassifier(random_state = 0)\n",
    "param_grid = {\"max_depth\":[1,2,3,4,5,6,7,8,9,10], \n",
    "              \"max_features\":[1,2,3,4,5,6,7,8,9,10], \n",
    "              \"max_leaf_nodes\": [1,2,3,4,5,6,7,8,9,10]}\n",
    "\n",
    "grid_rfc = GridSearchCV(rfc, param_grid = param_grid, cv= 6)\n",
    "\n",
    "# fitting the model to get the best parameters\n",
    "grid_rfc.fit(X_train, y_train)\n",
    "print(\"Best Cross-Validation Accuracy and Parameter\")\n",
    "print(\"*********************************************************\")\n",
    "print(\"Best cross-validation accuracy: {:.2f}\".format(grid_rfc.best_score_))\n",
    "print(\"Best parameter:\", grid_rfc.best_params_)\n",
    "print(\"*********************************************************\")"
   ]
  },
  {
   "cell_type": "code",
   "execution_count": 84,
   "metadata": {
    "scrolled": true
   },
   "outputs": [
    {
     "name": "stdout",
     "output_type": "stream",
     "text": [
      "Train Accuracy: 0.79\n",
      "Test Accuracy: 0.79 \n",
      "Percentage of overfitting 0.81%\n"
     ]
    }
   ],
   "source": [
    "# modelling with the tuned parameters\n",
    "\n",
    "# Instanstiating the Random Forest Model\n",
    "rfc = RandomForestClassifier(max_depth=5, max_features=4, max_leaf_nodes=10)\n",
    "\n",
    "# fitting the model to the data\n",
    "rfc.fit(X_train, y_train)\n",
    "\n",
    "rfc_train_score = rfc.score(X_train,y_train)\n",
    "rfc_test_score = rfc.score(X_test, y_test)\n",
    "\n",
    "print(\"Train Accuracy: {:.2f}\".format(rfc_train_score))\n",
    "print(\"Test Accuracy: {:.2f} \".format(rfc_test_score))\n",
    "print(\"Percentage of overfitting {:.2f}%\".format(((rfc_train_score-rfc_test_score)/rfc_train_score*100)))\n",
    "\n",
    "rfc_prediction=grid_rfc.predict(X_test)"
   ]
  },
  {
   "cell_type": "markdown",
   "metadata": {},
   "source": [
    "## MODEL SELECTION, AND EVALUATION\n"
   ]
  },
  {
   "cell_type": "code",
   "execution_count": 85,
   "metadata": {},
   "outputs": [],
   "source": [
    "# Importation of Performance Metrics\n",
    "from sklearn.metrics import confusion_matrix\n",
    "from sklearn.metrics import roc_auc_score\n",
    "from sklearn.metrics import roc_curve\n",
    "from sklearn.metrics import accuracy_score"
   ]
  },
  {
   "cell_type": "markdown",
   "metadata": {},
   "source": [
    "### MODEL SELECTION"
   ]
  },
  {
   "cell_type": "markdown",
   "metadata": {},
   "source": [
    "#### CONFUSION MATRIX"
   ]
  },
  {
   "cell_type": "code",
   "execution_count": 86,
   "metadata": {},
   "outputs": [
    {
     "name": "stdout",
     "output_type": "stream",
     "text": [
      "\n",
      "Decision Tree:\n",
      "[[1448  104]\n",
      " [ 339  222]]\n",
      "\n",
      "Logistic Regression:\n",
      "[[1383  169]\n",
      " [ 260  301]]\n",
      "\n",
      "SVC:\n",
      "[[1389  163]\n",
      " [ 263  298]]\n",
      "\n",
      "Random Forest:\n",
      "[[1460   92]\n",
      " [ 349  212]]\n",
      "\n",
      "Gradient Boost:\n",
      "[[1406  146]\n",
      " [ 277  284]]\n",
      "\n",
      "Ada Boost:\n",
      "[[1383  169]\n",
      " [ 251  310]]\n"
     ]
    }
   ],
   "source": [
    "from sklearn.metrics import confusion_matrix\n",
    "\n",
    "print(\"\\nDecision Tree:\")\n",
    "print(confusion_matrix(y_test, tree_prediction))\n",
    "\n",
    "\n",
    "print(\"\\nLogistic Regression:\")\n",
    "print(confusion_matrix(y_test, lrg_prediction))\n",
    "\n",
    "print(\"\\nSVC:\")\n",
    "print(confusion_matrix(y_test, svc_prediction))\n",
    "\n",
    "print(\"\\nRandom Forest:\")\n",
    "print(confusion_matrix(y_test, rfc_prediction))\n",
    "\n",
    "print(\"\\nGradient Boost:\")\n",
    "print(confusion_matrix(y_test, gbc_prediction))\n",
    "\n",
    "print(\"\\nAda Boost:\")\n",
    "print(confusion_matrix(y_test, adb_clf_prediction))"
   ]
  },
  {
   "cell_type": "markdown",
   "metadata": {},
   "source": [
    "From the confusion matrix, Random Forest had the highes True positive of 1460 and a True Negative 212. Gradient Boost also had a True Positive of 1406 and True negative of 284. A comparison of the two models, slightly puts GBC ahead of RFC. "
   ]
  },
  {
   "cell_type": "markdown",
   "metadata": {},
   "source": [
    "### CLASSIFICATION REPORT"
   ]
  },
  {
   "cell_type": "code",
   "execution_count": null,
   "metadata": {},
   "outputs": [],
   "source": []
  },
  {
   "cell_type": "code",
   "execution_count": 87,
   "metadata": {},
   "outputs": [
    {
     "name": "stdout",
     "output_type": "stream",
     "text": [
      "              precision    recall  f1-score   support\n",
      "\n",
      "   Churn Yes       0.81      0.93      0.87      1552\n",
      "    Churn No       0.68      0.40      0.50       561\n",
      "\n",
      "    accuracy                           0.79      2113\n",
      "   macro avg       0.75      0.66      0.68      2113\n",
      "weighted avg       0.78      0.79      0.77      2113\n",
      "\n"
     ]
    }
   ],
   "source": [
    "from sklearn.metrics import classification_report\n",
    "\n",
    "print(classification_report(y_test, tree_prediction, target_names=[\"Churn Yes\", \"Churn No\"]))"
   ]
  },
  {
   "cell_type": "code",
   "execution_count": 88,
   "metadata": {},
   "outputs": [
    {
     "name": "stdout",
     "output_type": "stream",
     "text": [
      "              precision    recall  f1-score   support\n",
      "\n",
      "   Churn Yes       0.84      0.89      0.87      1552\n",
      "    Churn No       0.64      0.54      0.58       561\n",
      "\n",
      "    accuracy                           0.80      2113\n",
      "   macro avg       0.74      0.71      0.72      2113\n",
      "weighted avg       0.79      0.80      0.79      2113\n",
      "\n"
     ]
    }
   ],
   "source": [
    "from sklearn.metrics import classification_report\n",
    "\n",
    "print(classification_report(y_test, lrg_prediction, target_names=[\"Churn Yes\", \"Churn No\"]))"
   ]
  },
  {
   "cell_type": "code",
   "execution_count": 89,
   "metadata": {
    "scrolled": true
   },
   "outputs": [
    {
     "name": "stdout",
     "output_type": "stream",
     "text": [
      "              precision    recall  f1-score   support\n",
      "\n",
      "   Churn Yes       0.84      0.89      0.87      1552\n",
      "    Churn No       0.65      0.53      0.58       561\n",
      "\n",
      "    accuracy                           0.80      2113\n",
      "   macro avg       0.74      0.71      0.73      2113\n",
      "weighted avg       0.79      0.80      0.79      2113\n",
      "\n"
     ]
    }
   ],
   "source": [
    "from sklearn.metrics import classification_report\n",
    "\n",
    "print(classification_report(y_test, svc_prediction, target_names=[\"Churn Yes\", \"Churn No\"]))"
   ]
  },
  {
   "cell_type": "code",
   "execution_count": 90,
   "metadata": {},
   "outputs": [
    {
     "name": "stdout",
     "output_type": "stream",
     "text": [
      "              precision    recall  f1-score   support\n",
      "\n",
      "       Churn       0.81      0.94      0.87      1552\n",
      "    Churn No       0.70      0.38      0.49       561\n",
      "\n",
      "    accuracy                           0.79      2113\n",
      "   macro avg       0.75      0.66      0.68      2113\n",
      "weighted avg       0.78      0.79      0.77      2113\n",
      "\n"
     ]
    }
   ],
   "source": [
    "from sklearn.metrics import classification_report\n",
    "\n",
    "print(classification_report(y_test, rfc_prediction, target_names=[\"Churn\", \"Churn No\"]))\n"
   ]
  },
  {
   "cell_type": "code",
   "execution_count": 91,
   "metadata": {},
   "outputs": [
    {
     "name": "stdout",
     "output_type": "stream",
     "text": [
      "              precision    recall  f1-score   support\n",
      "\n",
      "   Churn Yes       0.84      0.91      0.87      1552\n",
      "    Churn No       0.66      0.51      0.57       561\n",
      "\n",
      "    accuracy                           0.80      2113\n",
      "   macro avg       0.75      0.71      0.72      2113\n",
      "weighted avg       0.79      0.80      0.79      2113\n",
      "\n"
     ]
    }
   ],
   "source": [
    "from sklearn.metrics import classification_report\n",
    "\n",
    "print(classification_report(y_test, gbc_prediction, target_names=[\"Churn Yes\", \"Churn No\"]))"
   ]
  },
  {
   "cell_type": "code",
   "execution_count": 92,
   "metadata": {},
   "outputs": [
    {
     "name": "stdout",
     "output_type": "stream",
     "text": [
      "              precision    recall  f1-score   support\n",
      "\n",
      "   Churn Yes       0.85      0.89      0.87      1552\n",
      "    Churn No       0.65      0.55      0.60       561\n",
      "\n",
      "    accuracy                           0.80      2113\n",
      "   macro avg       0.75      0.72      0.73      2113\n",
      "weighted avg       0.79      0.80      0.80      2113\n",
      "\n"
     ]
    }
   ],
   "source": [
    "from sklearn.metrics import classification_report\n",
    "\n",
    "print(classification_report(y_test, adb_clf_prediction, target_names=[\"Churn Yes\", \"Churn No\"]))"
   ]
  },
  {
   "cell_type": "markdown",
   "metadata": {},
   "source": [
    "The f1 score of all the models meet at par with a value 0.87. A further analysis for selection would be made using the ROc."
   ]
  },
  {
   "cell_type": "code",
   "execution_count": 93,
   "metadata": {},
   "outputs": [],
   "source": [
    "r_probs = [0 for i in range(len(y_test))]\n",
    "tree_probs = tree.predict_proba(X_test)\n",
    "lrg_probs = lrg.predict_proba(X_test)\n",
    "svc_probs = svc.predict_proba(X_test)\n",
    "rfc_probs = rfc.predict_proba(X_test)\n",
    "gbc_probs = gbc.predict_proba(X_test)\n",
    "adb_clf_probs = adb_clf.predict_proba(X_test)\n",
    "\n",
    "tree_probs = tree_probs[:,1]\n",
    "lrg_probs = lrg_probs[:, 1]\n",
    "svc_probs = svc_probs[:, 1]\n",
    "rfc_probs = rfc_probs[:,1]\n",
    "gbc_probs = gbc_probs[:, 1]\n",
    "adb_clf_probs = adb_clf_probs[:, 1]\n",
    "\n",
    "r_fpr, r_tpr, _ = roc_curve(y_test, r_probs)\n",
    "tree_fpr, tree_tpr, _ = roc_curve(y_test,tree_probs)\n",
    "lrg_fpr, lrg_tpr, _ = roc_curve(y_test, lrg_probs)\n",
    "svc_fpr, svc_tpr, _ = roc_curve(y_test, svc_probs)#\n",
    "rfc_fpr, rfc_tpr, _ = roc_curve(y_test,rfc_probs)\n",
    "gbc_fpr, gbc_tpr, _ = roc_curve(y_test,gbc_probs)\n",
    "adb_clf_fpr, adb_clf_tpr, _ = roc_curve(y_test,adb_clf_probs)\n",
    "\n",
    "\n",
    "r_auc = roc_auc_score(y_test, r_probs)\n",
    "tree_auc = roc_auc_score(y_test, tree_probs)\n",
    "lrg_auc = roc_auc_score(y_test,lrg_probs)\n",
    "svc_auc = roc_auc_score(y_test,svc_probs)\n",
    "rfc_auc = roc_auc_score(y_test,rfc_probs)\n",
    "gbc_auc = roc_auc_score(y_test, gbc_probs)\n",
    "adb_clf_auc = roc_auc_score(y_test,adb_clf_probs)"
   ]
  },
  {
   "cell_type": "code",
   "execution_count": 94,
   "metadata": {},
   "outputs": [
    {
     "data": {
      "image/png": "[encoded data removed]",
      "text/plain": [
       "<Figure size 864x576 with 1 Axes>"
      ]
     },
     "metadata": {},
     "output_type": "display_data"
    }
   ],
   "source": [
    "plt.figure(figsize=(12,8))\n",
    "plt.plot(r_fpr, r_tpr, linestyle='--', label='Random prediction (AUROC = %0.3f)' % r_auc)\n",
    "plt.plot(tree_fpr, tree_tpr, marker='_', label='Decision Tree(AUROC = %0.3f)' % tree_auc)\n",
    "plt.plot(lrg_fpr, lrg_tpr, marker='_', label='Logistic Regression(AUROC = %0.3f)' % lrg_auc)\n",
    "plt.plot(svc_fpr, svc_tpr, marker='_', label='SVC(AUROC = %0.3f)' % svc_auc)\n",
    "plt.plot(rfc_fpr, rfc_tpr, marker='_', label='Random Forest(AUROC = %0.3f)' % rfc_auc)\n",
    "plt.plot(gbc_fpr, gbc_tpr, marker='_', label='Gradient Boosting(AUROC = %0.3f)' % gbc_auc)\n",
    "plt.plot(adb_clf_fpr, adb_clf_tpr, marker='_', label='AdaBoost(AUROC = %0.3f)' % adb_clf_auc)\n",
    "\n",
    "import matplotlib.pyplot as plt\n",
    "\n",
    "# Title\n",
    "plt.title('ROC Plot')\n",
    "# Axis labels\n",
    "plt.xlabel('False Positive Rate')\n",
    "plt.ylabel('True Positive Rate')\n",
    "# Show legend\n",
    "plt.legend() \n",
    "# Show plot\n",
    "plt.show()"
   ]
  },
  {
   "cell_type": "markdown",
   "metadata": {},
   "source": [
    "The AU ROC gives a gives a small margin of difference between Random Forest and Gradient Boosting. That of RFC is 0.843 and GBC is 0.850. From this the best model to be selected for prediction is the Graident Boosting Classifier. "
   ]
  },
  {
   "cell_type": "markdown",
   "metadata": {},
   "source": [
    "Using the Gradient Boosting Classifier, we would have and accuracy of 0.80.Meaning it this model is deployed, it would be able to predict with 80% accuracy customers who would stop transacting with the telecommunication company. This would help the company the category of customers who would be leaving and otherwise. This knowledge is going to enable the company take better decisions on how to retain customers and improve general business operations."
   ]
  },
  {
   "cell_type": "code",
   "execution_count": null,
   "metadata": {},
   "outputs": [],
   "source": []
  }
 ],
 "metadata": {
  "kernelspec": {
   "display_name": "Python 3 (ipykernel)",
   "language": "python",
   "name": "python3"
  },
  "language_info": {
   "codemirror_mode": {
    "name": "ipython",
    "version": 3
   },
   "file_extension": ".py",
   "mimetype": "text/x-python",
   "name": "python",
   "nbconvert_exporter": "python",
   "pygments_lexer": "ipython3",
   "version": "3.8.3"
  }
 },
 "nbformat": 4,
 "nbformat_minor": 4
}
